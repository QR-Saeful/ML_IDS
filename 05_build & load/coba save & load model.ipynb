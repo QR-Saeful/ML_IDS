{
 "cells": [
  {
   "cell_type": "markdown",
   "metadata": {},
   "source": [
    "### 1. Load dataset"
   ]
  },
  {
   "cell_type": "code",
   "execution_count": 1,
   "metadata": {},
   "outputs": [],
   "source": [
    "dataset_base_path = r'/Users/kripik123/Documents/dataset/processedx/selected_fiture_per-dataset/'\n",
    "\n",
    "import numpy as np\n",
    "import pandas as pd\n",
    "import matplotlib.pyplot as plt\n",
    "import seaborn as sns\n",
    "import glob\n",
    "import os\n",
    "import scikitplot as skplt\n",
    "from sklearn.model_selection import train_test_split\n",
    "from sklearn.preprocessing import StandardScaler\n",
    "from sklearn.dummy import DummyClassifier\n",
    "from sklearn.linear_model import LogisticRegression\n",
    "from sklearn.ensemble import RandomForestClassifier\n",
    "from sklearn.discriminant_analysis import QuadraticDiscriminantAnalysis as QDA\n",
    "from sklearn.naive_bayes import GaussianNB\n",
    "from sklearn.neighbors import KNeighborsClassifier\n",
    "from sklearn.tree import DecisionTreeClassifier\n",
    "\n",
    "from catboost import CatBoostClassifier\n",
    "from catboost import Pool\n",
    "from scipy.stats import describe\n",
    "from time import time #time stamp for all processing time\n",
    "from ml_ids.visualization import plot_hist, print_binary_performance, plot_pr_curve, plot_pr_curves, plot_pr_threshold_curves\n",
    "from ml_ids.prediction import predict_proba_positive, predict_decision_boundary\n",
    "\n",
    "%matplotlib inline"
   ]
  },
  {
   "cell_type": "code",
   "execution_count": 2,
   "metadata": {},
   "outputs": [],
   "source": [
    "types = {\n",
    "    'protocol': 'uint8',\n",
    "    'flow_duration': 'int64',\n",
    "    'tot_fwd_pkts': 'uint32',\n",
    "    'tot_bwd_pkts': 'uint32',\n",
    "    'totlen_fwd_pkts': 'uint32',\n",
    "    'totlen_bwd_pkts': 'uint32',\n",
    "    'fwd_pkt_len_mean': 'float32',\n",
    "    'fwd_pkt_len_std': 'float32',\n",
    "    'bwd_pkt_len_mean': 'float32',\n",
    "    'flow_byts_s': 'float64',\n",
    "    'flow_pkts_s': 'float64',\n",
    "    'flow_iat_std': 'float32',\n",
    "    'flow_iat_min': 'int64',\n",
    "    'fwd_iat_tot': 'int64',\n",
    "    'fwd_iat_min': 'int64',\n",
    "    'bwd_iat_tot': 'uint32',\n",
    "    'bwd_iat_min': 'uint32',\n",
    "    'fwd_psh_flags': 'uint8',\n",
    "    'fwd_urg_flags': 'uint8',\n",
    "    'bwd_pkts_s': 'float32',\n",
    "    'fin_flag_cnt': 'uint8',\n",
    "    'rst_flag_cnt': 'uint8',\n",
    "    'psh_flag_cnt': 'uint8',\n",
    "    'ack_flag_cnt': 'uint8',\n",
    "    'urg_flag_cnt': 'uint8',\n",
    "    'down_up_ratio': 'uint16',\n",
    "    'init_fwd_win_byts': 'int32',\n",
    "    'init_bwd_win_byts': 'int32',\n",
    "    'fwd_seg_size_min': 'uint8',\n",
    "    'active_mean': 'float32',\n",
    "    'idle_mean': 'float32',\n",
    "    'label': 'category'\n",
    "}\n",
    "\n",
    "def replace_infinity_with_mean(df):\n",
    "    inf_columns = [c for c in df.columns if df[df[c] == np.inf][c].count() > 0]\n",
    "    for col in inf_columns:\n",
    "        df[col].replace([np.inf, -np.inf], np.nan, inplace=True)\n",
    "        mean = df[col].mean()\n",
    "        df[col].fillna(mean, inplace=True)\n",
    "    return df\n",
    "\n",
    "\n",
    "def replace_negative_values_with_mean(df):\n",
    "    numeric_cols = df.select_dtypes(include=[np.number]).columns.values\n",
    "    \n",
    "    columns = [c for c in numeric_cols if df[df[c] < 0][c].count() > 0]\n",
    "    for col in columns:\n",
    "        mask = df[col] < 0\n",
    "        df.loc[mask, col] = np.nan\n",
    "        mean = df[col].mean()\n",
    "        df[col].fillna(mean, inplace=True)\n",
    "    return df\n",
    "\n",
    "def hms_string(sec_elapsed):\n",
    "    h = int(sec_elapsed / (60 * 60))\n",
    "    m = int((sec_elapsed % (60 * 60)) / 60)\n",
    "    s = sec_elapsed % 60.\n",
    "    return \"{}:{:>02}:{:>05.2f}\".format(h, m, s)\n",
    "\n",
    "def load_dataset(files, dtypes, cols=None):\n",
    "    df = pd.concat((pd.read_csv(f, dtype=dtypes, usecols=cols) for f in files))\n",
    "    \n",
    "    df = replace_infinity_with_mean(df)\n",
    "    df = replace_negative_values_with_mean(df)\n",
    "        \n",
    "    df['label_cat'] = df.label.astype('category').cat.codes\n",
    "    df['label_is_attack'] = (df.label != 'Benign').astype('int')\n",
    "    return df"
   ]
  },
  {
   "cell_type": "markdown",
   "metadata": {},
   "source": [
    "## 2. Preprocessing Data"
   ]
  },
  {
   "cell_type": "code",
   "execution_count": 3,
   "metadata": {},
   "outputs": [],
   "source": [
    "#join all csv\n",
    "#split data jadi-2 X dan Y\n",
    "csv_files = glob.glob(os.path.join(dataset_base_path, 'dos-*.csv'))\n",
    "\n",
    "df = load_dataset(csv_files, types)\n",
    "X = df.drop(columns=['label', 'label_cat', 'label_is_attack'])\n",
    "y = df[['label_is_attack', 'label_cat', 'label']]"
   ]
  },
  {
   "cell_type": "code",
   "execution_count": 4,
   "metadata": {},
   "outputs": [
    {
     "name": "stdout",
     "output_type": "stream",
     "text": [
      "<class 'pandas.core.frame.DataFrame'>\n",
      "Int64Index: 2097149 entries, 0 to 1048573\n",
      "Data columns (total 34 columns):\n",
      " #   Column             Dtype  \n",
      "---  ------             -----  \n",
      " 0   protocol           uint8  \n",
      " 1   flow_duration      int64  \n",
      " 2   tot_fwd_pkts       uint32 \n",
      " 3   tot_bwd_pkts       uint32 \n",
      " 4   totlen_bwd_pkts    uint32 \n",
      " 5   fwd_pkt_len_mean   float32\n",
      " 6   fwd_pkt_len_std    float32\n",
      " 7   bwd_pkt_len_mean   float32\n",
      " 8   flow_byts_s        float64\n",
      " 9   flow_pkts_s        float64\n",
      " 10  flow_iat_std       float32\n",
      " 11  flow_iat_min       int64  \n",
      " 12  fwd_iat_tot        int64  \n",
      " 13  fwd_iat_min        int64  \n",
      " 14  bwd_iat_tot        uint32 \n",
      " 15  bwd_iat_mean       float64\n",
      " 16  bwd_iat_min        uint32 \n",
      " 17  fwd_psh_flags      uint8  \n",
      " 18  fwd_urg_flags      uint8  \n",
      " 19  bwd_pkts_s         float32\n",
      " 20  fin_flag_cnt       uint8  \n",
      " 21  rst_flag_cnt       uint8  \n",
      " 22  psh_flag_cnt       uint8  \n",
      " 23  ack_flag_cnt       uint8  \n",
      " 24  urg_flag_cnt       uint8  \n",
      " 25  down_up_ratio      uint16 \n",
      " 26  init_fwd_win_byts  float64\n",
      " 27  init_bwd_win_byts  float64\n",
      " 28  fwd_seg_size_min   uint8  \n",
      " 29  active_mean        float32\n",
      " 30  idle_mean          float32\n",
      " 31  label              object \n",
      " 32  label_cat          int8   \n",
      " 33  label_is_attack    int64  \n",
      "dtypes: float32(7), float64(5), int64(5), int8(1), object(1), uint16(1), uint32(5), uint8(9)\n",
      "memory usage: 312.0+ MB\n"
     ]
    }
   ],
   "source": [
    "df.info()"
   ]
  },
  {
   "cell_type": "code",
   "execution_count": 5,
   "metadata": {},
   "outputs": [
    {
     "data": {
      "text/plain": [
       "0    fwd_urg_flags\n",
       "dtype: object"
      ]
     },
     "execution_count": 5,
     "metadata": {},
     "output_type": "execute_result"
    }
   ],
   "source": [
    "#fitur yang nilainya 0 dicari \n",
    "\n",
    "stats = X.describe()\n",
    "std = stats.loc['std']\n",
    "features_no_variance = std[std == 0.0].index\n",
    "pd.Series(features_no_variance).sort_values()"
   ]
  },
  {
   "cell_type": "code",
   "execution_count": 6,
   "metadata": {},
   "outputs": [],
   "source": [
    "#fitur yang nilainya 0 dihapus\n",
    "X = X.drop(columns=features_no_variance)"
   ]
  },
  {
   "cell_type": "markdown",
   "metadata": {},
   "source": [
    "### 2.1. Train / Test split\n",
    "\n",
    "In order to train and evaluate different models a train/evaluation/test split is created with the ratios of `0.8/0.1/0.1`.  \n",
    "The split is stratified using the attack category in order to guarantee that all attacks are represented in the training and test set based on their occurences in the dataset.  \n",
    "To use algorithms expecting categorical values being one-hot-encoded, copies of the training and test data are created (`X_train_oh`, `X_test_oh`) with the feature `protocol` being one-hot-encoded."
   ]
  },
  {
   "cell_type": "code",
   "execution_count": 7,
   "metadata": {},
   "outputs": [],
   "source": [
    "## bagi dataset menjadi 80 % untuk training, 20 % untuk evaluasi\n",
    "X_train, X_eval, y_train, y_eval = train_test_split(X, y, test_size=0.2, stratify=y.label_cat)\n",
    "##X_eval, X_test, y_eval, y_test = train_test_split(X_hold, y_hold, test_size=0.5, stratify=y_hold.label_cat)\n",
    "\n",
    "X_train_oh = pd.get_dummies(X_train, columns=['protocol'])\n",
    "X_eval_oh = pd.get_dummies(X_eval, columns=['protocol'])\n",
    "##X_test_oh = pd.get_dummies(X_test, columns=['protocol'])"
   ]
  },
  {
   "cell_type": "code",
   "execution_count": 8,
   "metadata": {},
   "outputs": [
    {
     "data": {
      "text/plain": [
       "Benign                      1442849\n",
       "DoS attacks-Hulk             461912\n",
       "DoS attacks-SlowHTTPTest     139890\n",
       "DoS attacks-GoldenEye         41508\n",
       "DoS attacks-Slowloris         10990\n",
       "Name: label, dtype: int64"
      ]
     },
     "execution_count": 8,
     "metadata": {},
     "output_type": "execute_result"
    }
   ],
   "source": [
    "## hitung jumlah sampel per kategori di dataset\n",
    "y.label.value_counts()"
   ]
  },
  {
   "cell_type": "code",
   "execution_count": 9,
   "metadata": {},
   "outputs": [
    {
     "data": {
      "text/plain": [
       "Benign                      1154279\n",
       "DoS attacks-Hulk             369530\n",
       "DoS attacks-SlowHTTPTest     111912\n",
       "DoS attacks-GoldenEye         33206\n",
       "DoS attacks-Slowloris          8792\n",
       "Name: label, dtype: int64"
      ]
     },
     "execution_count": 9,
     "metadata": {},
     "output_type": "execute_result"
    }
   ],
   "source": [
    "## hitung jumlah sampel y_train 80%\n",
    "y_train.label.value_counts()"
   ]
  },
  {
   "cell_type": "code",
   "execution_count": 10,
   "metadata": {},
   "outputs": [
    {
     "data": {
      "text/plain": [
       "Benign                      288570\n",
       "DoS attacks-Hulk             92382\n",
       "DoS attacks-SlowHTTPTest     27978\n",
       "DoS attacks-GoldenEye         8302\n",
       "DoS attacks-Slowloris         2198\n",
       "Name: label, dtype: int64"
      ]
     },
     "execution_count": 10,
     "metadata": {},
     "output_type": "execute_result"
    }
   ],
   "source": [
    "## sampel evaluasi 10%\n",
    "y_eval.label.value_counts()"
   ]
  },
  {
   "cell_type": "code",
   "execution_count": 11,
   "metadata": {},
   "outputs": [
    {
     "name": "stdout",
     "output_type": "stream",
     "text": [
      "Class occurences:\n",
      "0    1154279\n",
      "1     523440\n",
      "Name: label_is_attack, dtype: int64\n",
      "Percentage of benign samples: 0.6880\n"
     ]
    }
   ],
   "source": [
    "## hitung persentasi antara sampel attack dengan benign di y_train\n",
    "## hasilnya 68% benign, dan sisanya adalah sampel attack\n",
    "\n",
    "percentage_benign = len(y_train.label_is_attack[y_train.label_is_attack == 0]) / len(y_train.label_is_attack)\n",
    "\n",
    "print('Class occurences:')\n",
    "print(y_train.label_is_attack.value_counts())\n",
    "print('Percentage of benign samples: %.4f' % percentage_benign)"
   ]
  },
  {
   "cell_type": "code",
   "execution_count": 12,
   "metadata": {},
   "outputs": [],
   "source": [
    "y_eval=y_eval.replace({'DoS attacks-Hulk':1, 'DoS attacks-SlowHTTPTest':3, 'DoS attacks-GoldenEye':4, 'DoS attacks-Slowloris':5})\n",
    "y_train=y_train.replace({'DoS attacks-Hulk':1, 'DoS attacks-SlowHTTPTest':3, 'DoS attacks-GoldenEye':4, 'DoS attacks-Slowloris':5})"
   ]
  },
  {
   "cell_type": "code",
   "execution_count": 13,
   "metadata": {},
   "outputs": [],
   "source": [
    "class_names=[1,3,4,5]"
   ]
  },
  {
   "cell_type": "markdown",
   "metadata": {},
   "source": [
    "## 3. Classifier"
   ]
  },
  {
   "cell_type": "markdown",
   "metadata": {},
   "source": [
    "#### algoritma yang dipake:\n",
    "- Random forest"
   ]
  },
  {
   "cell_type": "code",
   "execution_count": 14,
   "metadata": {},
   "outputs": [
    {
     "data": {
      "text/plain": [
       "StandardScaler(copy=True, with_mean=True, with_std=True)"
      ]
     },
     "execution_count": 14,
     "metadata": {},
     "output_type": "execute_result"
    }
   ],
   "source": [
    "scaler = StandardScaler()\n",
    "scaler.fit(X_train_oh)"
   ]
  },
  {
   "cell_type": "code",
   "execution_count": 15,
   "metadata": {},
   "outputs": [
    {
     "data": {
      "image/png": "[encoded data removed]",
      "text/plain": [
       "<Figure size 576x360 with 1 Axes>"
      ]
     },
     "metadata": {
      "needs_background": "light"
     },
     "output_type": "display_data"
    },
    {
     "name": "stdout",
     "output_type": "stream",
     "text": [
      "Average PR Score 0.9999367745571168\n",
      "Time to fit Data Train\n",
      "0:08:11.50\n"
     ]
    }
   ],
   "source": [
    "## 2. RandomForest form scikit-learn with default value\n",
    "## coba dari source code binary classification\n",
    "\n",
    "start_time = time()\n",
    "##cls_forest = RandomForestClassifier(verbose=1, n_jobs=-1, class_weight='balanced')\n",
    "##cls_forest = RandomForestClassifier(max_depth=5, n_estimators=10, max_features=1)\n",
    "cls_forest = RandomForestClassifier(n_estimators=100, criterion='gini', min_samples_split=2, min_samples_leaf=1)\n",
    "##cls_forest = RandomForestClassifier()\n",
    "cls_forest.fit(X_train_oh, y_train.label_is_attack)\n",
    "\n",
    "pred_val_proba_rf = predict_proba_positive(cls_forest, X_eval_oh)\n",
    "plot_pr_curve(y_eval.label_is_attack.values, pred_val_proba_rf)\n",
    "\n",
    "end_time=time()\n",
    "total=end_time-start_time\n",
    "print (\"Time to fit Data Train\".format(hms_string(total)))\n",
    "print(hms_string(total))"
   ]
  },
  {
   "cell_type": "code",
   "execution_count": 16,
   "metadata": {},
   "outputs": [
    {
     "name": "stdout",
     "output_type": "stream",
     "text": [
      "Classification Report:\n",
      "======================\n",
      "              precision    recall  f1-score   support\n",
      "\n",
      "           0      1.000     1.000     1.000    288570\n",
      "           1      1.000     1.000     1.000    130860\n",
      "\n",
      "    accuracy                          1.000    419430\n",
      "   macro avg      1.000     1.000     1.000    419430\n",
      "weighted avg      1.000     1.000     1.000    419430\n",
      "\n",
      "Confusion Matrix:\n",
      "=================\n"
     ]
    },
    {
     "data": {
      "image/png": "[encoded data removed]",
      "text/plain": [
       "<Figure size 360x360 with 2 Axes>"
      ]
     },
     "metadata": {
      "needs_background": "light"
     },
     "output_type": "display_data"
    },
    {
     "name": "stdout",
     "output_type": "stream",
     "text": [
      "Misclassifications by attack category:\n",
      "======================================\n"
     ]
    },
    {
     "data": {
      "text/html": [
       "<div>\n",
       "<style scoped>\n",
       "    .dataframe tbody tr th:only-of-type {\n",
       "        vertical-align: middle;\n",
       "    }\n",
       "\n",
       "    .dataframe tbody tr th {\n",
       "        vertical-align: top;\n",
       "    }\n",
       "\n",
       "    .dataframe thead th {\n",
       "        text-align: right;\n",
       "    }\n",
       "</style>\n",
       "<table border=\"1\" class=\"dataframe\">\n",
       "  <thead>\n",
       "    <tr style=\"text-align: right;\">\n",
       "      <th></th>\n",
       "      <th>misclassified</th>\n",
       "      <th>total</th>\n",
       "      <th>percent_misclassified</th>\n",
       "    </tr>\n",
       "  </thead>\n",
       "  <tbody>\n",
       "    <tr>\n",
       "      <th>5</th>\n",
       "      <td>26</td>\n",
       "      <td>2198</td>\n",
       "      <td>0.011829</td>\n",
       "    </tr>\n",
       "    <tr>\n",
       "      <th>4</th>\n",
       "      <td>1</td>\n",
       "      <td>8302</td>\n",
       "      <td>0.000120</td>\n",
       "    </tr>\n",
       "    <tr>\n",
       "      <th>Benign</th>\n",
       "      <td>2</td>\n",
       "      <td>288570</td>\n",
       "      <td>0.000007</td>\n",
       "    </tr>\n",
       "  </tbody>\n",
       "</table>\n",
       "</div>"
      ],
      "text/plain": [
       "        misclassified   total  percent_misclassified\n",
       "5                  26    2198               0.011829\n",
       "4                   1    8302               0.000120\n",
       "Benign              2  288570               0.000007"
      ]
     },
     "metadata": {},
     "output_type": "display_data"
    }
   ],
   "source": [
    "## confusion matrix and missclassification table\n",
    "\n",
    "pred_val_rf = cls_forest.predict(X_eval_oh)\n",
    "print_binary_performance(y_eval, y_eval.label_is_attack, pred_val_rf)"
   ]
  },
  {
   "cell_type": "markdown",
   "metadata": {},
   "source": [
    "## 4. Model Save"
   ]
  },
  {
   "cell_type": "code",
   "execution_count": 19,
   "metadata": {},
   "outputs": [
    {
     "data": {
      "text/plain": [
       "['models/rf_2567245d-ddd2-49b2-ab39-9fee04126866.joblib']"
      ]
     },
     "execution_count": 19,
     "metadata": {},
     "output_type": "execute_result"
    }
   ],
   "source": [
    "import joblib as jl\n",
    "import uuid\n",
    "\n",
    "##save\n",
    "model_path = 'models/rf_{}.joblib'.format(uuid.uuid4())\n",
    "jl.dump(cls_forest, model_path)\n",
    "\n"
   ]
  },
  {
   "cell_type": "markdown",
   "metadata": {},
   "source": [
    "## 5. Load and Performance on Test Set"
   ]
  },
  {
   "cell_type": "code",
   "execution_count": 22,
   "metadata": {},
   "outputs": [
    {
     "name": "stdout",
     "output_type": "stream",
     "text": [
      "Classification Report:\n",
      "======================\n",
      "              precision    recall  f1-score   support\n",
      "\n",
      "           0      1.000     1.000     1.000    288570\n",
      "           1      1.000     1.000     1.000    130860\n",
      "\n",
      "    accuracy                          1.000    419430\n",
      "   macro avg      1.000     1.000     1.000    419430\n",
      "weighted avg      1.000     1.000     1.000    419430\n",
      "\n",
      "Confusion Matrix:\n",
      "=================\n"
     ]
    },
    {
     "data": {
      "image/png": "[encoded data removed]",
      "text/plain": [
       "<Figure size 360x360 with 2 Axes>"
      ]
     },
     "metadata": {
      "needs_background": "light"
     },
     "output_type": "display_data"
    },
    {
     "name": "stdout",
     "output_type": "stream",
     "text": [
      "Misclassifications by attack category:\n",
      "======================================\n"
     ]
    },
    {
     "data": {
      "text/html": [
       "<div>\n",
       "<style scoped>\n",
       "    .dataframe tbody tr th:only-of-type {\n",
       "        vertical-align: middle;\n",
       "    }\n",
       "\n",
       "    .dataframe tbody tr th {\n",
       "        vertical-align: top;\n",
       "    }\n",
       "\n",
       "    .dataframe thead th {\n",
       "        text-align: right;\n",
       "    }\n",
       "</style>\n",
       "<table border=\"1\" class=\"dataframe\">\n",
       "  <thead>\n",
       "    <tr style=\"text-align: right;\">\n",
       "      <th></th>\n",
       "      <th>misclassified</th>\n",
       "      <th>total</th>\n",
       "      <th>percent_misclassified</th>\n",
       "    </tr>\n",
       "  </thead>\n",
       "  <tbody>\n",
       "    <tr>\n",
       "      <th>5</th>\n",
       "      <td>26</td>\n",
       "      <td>2198</td>\n",
       "      <td>0.011829</td>\n",
       "    </tr>\n",
       "    <tr>\n",
       "      <th>4</th>\n",
       "      <td>1</td>\n",
       "      <td>8302</td>\n",
       "      <td>0.000120</td>\n",
       "    </tr>\n",
       "    <tr>\n",
       "      <th>Benign</th>\n",
       "      <td>2</td>\n",
       "      <td>288570</td>\n",
       "      <td>0.000007</td>\n",
       "    </tr>\n",
       "  </tbody>\n",
       "</table>\n",
       "</div>"
      ],
      "text/plain": [
       "        misclassified   total  percent_misclassified\n",
       "5                  26    2198               0.011829\n",
       "4                   1    8302               0.000120\n",
       "Benign              2  288570               0.000007"
      ]
     },
     "metadata": {},
     "output_type": "display_data"
    }
   ],
   "source": [
    "##load\n",
    "cls_rf = jl.load(model_path)\n",
    "\n",
    "pred_test_rf = cls_rf.predict(X_eval_oh)\n",
    "print_binary_performance(y_eval, y_eval.label_is_attack, pred_test_rf)"
   ]
  },
  {
   "cell_type": "code",
   "execution_count": null,
   "metadata": {},
   "outputs": [],
   "source": []
  },
  {
   "cell_type": "code",
   "execution_count": null,
   "metadata": {},
   "outputs": [],
   "source": []
  }
 ],
 "metadata": {
  "kernelspec": {
   "display_name": "Python 3",
   "language": "python",
   "name": "python3"
  },
  "language_info": {
   "codemirror_mode": {
    "name": "ipython",
    "version": 3
   },
   "file_extension": ".py",
   "mimetype": "text/x-python",
   "name": "python",
   "nbconvert_exporter": "python",
   "pygments_lexer": "ipython3",
   "version": "3.7.6"
  }
 },
 "nbformat": 4,
 "nbformat_minor": 4
}
