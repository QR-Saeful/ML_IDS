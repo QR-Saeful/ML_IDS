{
 "cells": [
  {
   "cell_type": "markdown",
   "metadata": {},
   "source": [
    "### 1. Load dataset"
   ]
  },
  {
   "cell_type": "code",
   "execution_count": 1,
   "metadata": {},
   "outputs": [],
   "source": [
    "dataset_base_path = r'/Users/kripik123/Documents/dataset/processedx/'\n",
    "\n",
    "import numpy as np\n",
    "import pandas as pd\n",
    "import matplotlib.pyplot as plt\n",
    "import seaborn as sns\n",
    "import glob\n",
    "import os\n",
    "import scikitplot as skplt\n",
    "from sklearn.model_selection import train_test_split\n",
    "from sklearn.preprocessing import StandardScaler\n",
    "from sklearn.dummy import DummyClassifier\n",
    "from sklearn.linear_model import LogisticRegression\n",
    "from sklearn.ensemble import RandomForestClassifier\n",
    "from sklearn.discriminant_analysis import QuadraticDiscriminantAnalysis as QDA\n",
    "from sklearn.naive_bayes import GaussianNB\n",
    "from sklearn.neighbors import KNeighborsClassifier\n",
    "from sklearn.tree import DecisionTreeClassifier\n",
    "from sklearn.metrics import classification_report, precision_recall_curve, average_precision_score\n",
    "from catboost import CatBoostClassifier\n",
    "from catboost import Pool\n",
    "from scipy.stats import spearmanr\n",
    "from scipy.cluster import hierarchy\n",
    "from collections import defaultdict\n",
    "from scipy.stats import describe\n",
    "from collections import Counter\n",
    "from IPython.display import display\n",
    "from time import time #time stamp for all processing time\n",
    "\n",
    "from ml_ids.visualization import plot_hist, print_binary_performance, plot_pr_curve, plot_pr_curves, plot_pr_threshold_curves\n",
    "from ml_ids.prediction import predict_proba_positive, predict_decision_boundary\n",
    "\n",
    "%matplotlib inline"
   ]
  },
  {
   "cell_type": "code",
   "execution_count": 2,
   "metadata": {},
   "outputs": [],
   "source": [
    "types = {\n",
    "    'dst_port': 'uint32',\n",
    "    'protocol': 'uint8',\n",
    "    'timestamp': 'object',\n",
    "    'flow_duration': 'int64',\n",
    "    'tot_fwd_pkts': 'uint32',\n",
    "    'tot_bwd_pkts': 'uint32',\n",
    "    'totlen_fwd_pkts': 'uint32',\n",
    "    'totlen_bwd_pkts': 'uint32',\n",
    "    'fwd_pkt_len_max': 'uint16',\n",
    "    'fwd_pkt_len_min': 'uint16',\n",
    "    'fwd_pkt_len_mean': 'float32',\n",
    "    'fwd_pkt_len_std': 'float32',\n",
    "    'bwd_pkt_len_max': 'uint16',\n",
    "    'bwd_pkt_len_min': 'uint16',\n",
    "    'bwd_pkt_len_mean': 'float32',\n",
    "    'bwd_pkt_len_std': 'float32',\n",
    "    'flow_byts_s': 'float64',\n",
    "    'flow_pkts_s': 'float64',\n",
    "    'flow_iat_mean': 'float32',\n",
    "    'flow_iat_std': 'float32',\n",
    "    'flow_iat_max': 'int64',\n",
    "    'flow_iat_min': 'int64',\n",
    "    'fwd_iat_tot': 'int64',\n",
    "    'fwd_iat_mean': 'float32',\n",
    "    'fwd_iat_std': 'float32',\n",
    "    'fwd_iat_max': 'int64',\n",
    "    'fwd_iat_min': 'int64',\n",
    "    'bwd_iat_tot': 'uint32',\n",
    "    'bwd_iat_mean': 'float32',\n",
    "    'bwd_iat_std': 'float32',\n",
    "    'bwd_iat_max': 'uint32',\n",
    "    'bwd_iat_min': 'uint32',\n",
    "    'fwd_psh_flags': 'uint8',\n",
    "    'bwd_psh_flags': 'uint8',\n",
    "    'fwd_urg_flags': 'uint8',\n",
    "    'bwd_urg_flags': 'uint8',\n",
    "    'fwd_header_len': 'uint32',\n",
    "    'bwd_header_len': 'uint32',\n",
    "    'fwd_pkts_s': 'float32',\n",
    "    'bwd_pkts_s': 'float32',\n",
    "    'pkt_len_min': 'uint16',\n",
    "    'pkt_len_max': 'uint16',\n",
    "    'pkt_len_mean': 'float32',\n",
    "    'pkt_len_std': 'float32',\n",
    "    'pkt_len_var': 'float32',\n",
    "    'fin_flag_cnt': 'uint8',\n",
    "    'syn_flag_cnt': 'uint8',\n",
    "    'rst_flag_cnt': 'uint8',\n",
    "    'psh_flag_cnt': 'uint8',\n",
    "    'ack_flag_cnt': 'uint8',\n",
    "    'urg_flag_cnt': 'uint8',\n",
    "    'cwe_flag_count': 'uint8',\n",
    "    'ece_flag_cnt': 'uint8',\n",
    "    'down_up_ratio': 'uint16',\n",
    "    'pkt_size_avg': 'float32',\n",
    "    'fwd_seg_size_avg': 'float32',\n",
    "    'bwd_seg_size_avg': 'float32',\n",
    "    'fwd_byts_b_avg': 'uint8',\n",
    "    'fwd_pkts_b_avg': 'uint8',\n",
    "    'fwd_blk_rate_avg': 'uint8',\n",
    "    'bwd_byts_b_avg': 'uint8',\n",
    "    'bwd_pkts_b_avg': 'uint8',\n",
    "    'bwd_blk_rate_avg': 'uint8',\n",
    "    'subflow_fwd_pkts': 'uint32',\n",
    "    'subflow_fwd_byts': 'uint32',\n",
    "    'subflow_bwd_pkts': 'uint32',\n",
    "    'subflow_bwd_byts': 'uint32',\n",
    "    'init_fwd_win_byts': 'int32',\n",
    "    'init_bwd_win_byts': 'int32',\n",
    "    'fwd_act_data_pkts': 'uint32',\n",
    "    'fwd_seg_size_min': 'uint8',\n",
    "    'active_mean': 'float32',\n",
    "    'active_std': 'float32',\n",
    "    'active_max': 'uint32',\n",
    "    'active_min': 'uint32',\n",
    "    'idle_mean': 'float32',\n",
    "    'idle_std': 'float32',\n",
    "    'idle_max': 'uint64',\n",
    "    'idle_min': 'uint64',\n",
    "    'label': 'category'\n",
    "}\n",
    "\n",
    "def replace_infinity_with_mean(df):\n",
    "    inf_columns = [c for c in df.columns if df[df[c] == np.inf][c].count() > 0]\n",
    "    for col in inf_columns:\n",
    "        df[col].replace([np.inf, -np.inf], np.nan, inplace=True)\n",
    "        mean = df[col].mean()\n",
    "        df[col].fillna(mean, inplace=True)\n",
    "    return df\n",
    "\n",
    "\n",
    "def replace_negative_values_with_mean(df):\n",
    "    numeric_cols = df.select_dtypes(include=[np.number]).columns.values\n",
    "    \n",
    "    columns = [c for c in numeric_cols if df[df[c] < 0][c].count() > 0]\n",
    "    for col in columns:\n",
    "        mask = df[col] < 0\n",
    "        df.loc[mask, col] = np.nan\n",
    "        mean = df[col].mean()\n",
    "        df[col].fillna(mean, inplace=True)\n",
    "    return df\n",
    "\n",
    "def hms_string(sec_elapsed):\n",
    "    h = int(sec_elapsed / (60 * 60))\n",
    "    m = int((sec_elapsed % (60 * 60)) / 60)\n",
    "    s = sec_elapsed % 60.\n",
    "    return \"{}:{:>02}:{:>05.2f}\".format(h, m, s)\n",
    "\n",
    "def load_dataset(files, dtypes, cols=None):\n",
    "    df = pd.concat((pd.read_csv(f, dtype=dtypes, usecols=cols) for f in files))\n",
    "    \n",
    "    df = replace_infinity_with_mean(df)\n",
    "    df = replace_negative_values_with_mean(df)\n",
    "        \n",
    "    df['label_cat'] = df.label.astype('category').cat.codes\n",
    "    df['label_is_attack'] = (df.label != 'Benign').astype('int')\n",
    "    return df"
   ]
  },
  {
   "cell_type": "markdown",
   "metadata": {},
   "source": [
    "## 2. Preprocessing Data"
   ]
  },
  {
   "cell_type": "code",
   "execution_count": 3,
   "metadata": {},
   "outputs": [],
   "source": [
    "#join all csv\n",
    "#split data jadi-2 X dan Y\n",
    "csv_files = glob.glob(os.path.join(dataset_base_path, 'dos-*.csv'))\n",
    "\n",
    "df = load_dataset(csv_files, types)\n",
    "X = df.drop(columns=['label', 'label_cat', 'label_is_attack'])\n",
    "y = df[['label_is_attack', 'label_cat', 'label']]"
   ]
  },
  {
   "cell_type": "code",
   "execution_count": 4,
   "metadata": {},
   "outputs": [
    {
     "name": "stdout",
     "output_type": "stream",
     "text": [
      "<class 'pandas.core.frame.DataFrame'>\n",
      "Int64Index: 2097149 entries, 0 to 1048574\n",
      "Data columns (total 82 columns):\n",
      " #   Column             Dtype  \n",
      "---  ------             -----  \n",
      " 0   dst_port           uint32 \n",
      " 1   protocol           uint8  \n",
      " 2   timestamp          object \n",
      " 3   flow_duration      int64  \n",
      " 4   tot_fwd_pkts       uint32 \n",
      " 5   tot_bwd_pkts       uint32 \n",
      " 6   totlen_fwd_pkts    uint32 \n",
      " 7   totlen_bwd_pkts    uint32 \n",
      " 8   fwd_pkt_len_max    uint16 \n",
      " 9   fwd_pkt_len_min    uint16 \n",
      " 10  fwd_pkt_len_mean   float32\n",
      " 11  fwd_pkt_len_std    float32\n",
      " 12  bwd_pkt_len_max    uint16 \n",
      " 13  bwd_pkt_len_min    uint16 \n",
      " 14  bwd_pkt_len_mean   float32\n",
      " 15  bwd_pkt_len_std    float32\n",
      " 16  flow_byts_s        float64\n",
      " 17  flow_pkts_s        float64\n",
      " 18  flow_iat_mean      float32\n",
      " 19  flow_iat_std       float32\n",
      " 20  flow_iat_max       int64  \n",
      " 21  flow_iat_min       int64  \n",
      " 22  fwd_iat_tot        int64  \n",
      " 23  fwd_iat_mean       float32\n",
      " 24  fwd_iat_std        float32\n",
      " 25  fwd_iat_max        int64  \n",
      " 26  fwd_iat_min        int64  \n",
      " 27  bwd_iat_tot        uint32 \n",
      " 28  bwd_iat_mean       float32\n",
      " 29  bwd_iat_std        float32\n",
      " 30  bwd_iat_max        uint32 \n",
      " 31  bwd_iat_min        uint32 \n",
      " 32  fwd_psh_flags      uint8  \n",
      " 33  bwd_psh_flags      uint8  \n",
      " 34  fwd_urg_flags      uint8  \n",
      " 35  bwd_urg_flags      uint8  \n",
      " 36  fwd_header_len     uint32 \n",
      " 37  bwd_header_len     uint32 \n",
      " 38  fwd_pkts_s         float32\n",
      " 39  bwd_pkts_s         float32\n",
      " 40  pkt_len_min        uint16 \n",
      " 41  pkt_len_max        uint16 \n",
      " 42  pkt_len_mean       float32\n",
      " 43  pkt_len_std        float32\n",
      " 44  pkt_len_var        float32\n",
      " 45  fin_flag_cnt       uint8  \n",
      " 46  syn_flag_cnt       uint8  \n",
      " 47  rst_flag_cnt       uint8  \n",
      " 48  psh_flag_cnt       uint8  \n",
      " 49  ack_flag_cnt       uint8  \n",
      " 50  urg_flag_cnt       uint8  \n",
      " 51  cwe_flag_count     uint8  \n",
      " 52  ece_flag_cnt       uint8  \n",
      " 53  down_up_ratio      uint16 \n",
      " 54  pkt_size_avg       float32\n",
      " 55  fwd_seg_size_avg   float32\n",
      " 56  bwd_seg_size_avg   float32\n",
      " 57  fwd_byts_b_avg     uint8  \n",
      " 58  fwd_pkts_b_avg     uint8  \n",
      " 59  fwd_blk_rate_avg   uint8  \n",
      " 60  bwd_byts_b_avg     uint8  \n",
      " 61  bwd_pkts_b_avg     uint8  \n",
      " 62  bwd_blk_rate_avg   uint8  \n",
      " 63  subflow_fwd_pkts   uint32 \n",
      " 64  subflow_fwd_byts   uint32 \n",
      " 65  subflow_bwd_pkts   uint32 \n",
      " 66  subflow_bwd_byts   uint32 \n",
      " 67  init_fwd_win_byts  float64\n",
      " 68  init_bwd_win_byts  float64\n",
      " 69  fwd_act_data_pkts  uint32 \n",
      " 70  fwd_seg_size_min   uint8  \n",
      " 71  active_mean        float32\n",
      " 72  active_std         float32\n",
      " 73  active_max         uint32 \n",
      " 74  active_min         uint32 \n",
      " 75  idle_mean          float32\n",
      " 76  idle_std           float32\n",
      " 77  idle_max           uint64 \n",
      " 78  idle_min           uint64 \n",
      " 79  label              object \n",
      " 80  label_cat          int8   \n",
      " 81  label_is_attack    int64  \n",
      "dtypes: float32(22), float64(4), int64(7), int8(1), object(2), uint16(7), uint32(17), uint64(2), uint8(20)\n",
      "memory usage: 638.0+ MB\n"
     ]
    }
   ],
   "source": [
    "df.info()"
   ]
  },
  {
   "cell_type": "code",
   "execution_count": 6,
   "metadata": {},
   "outputs": [
    {
     "data": {
      "text/plain": [
       "9    bwd_blk_rate_avg\n",
       "7      bwd_byts_b_avg\n",
       "8      bwd_pkts_b_avg\n",
       "0       bwd_psh_flags\n",
       "2       bwd_urg_flags\n",
       "3      cwe_flag_count\n",
       "6    fwd_blk_rate_avg\n",
       "4      fwd_byts_b_avg\n",
       "5      fwd_pkts_b_avg\n",
       "1       fwd_urg_flags\n",
       "dtype: object"
      ]
     },
     "execution_count": 6,
     "metadata": {},
     "output_type": "execute_result"
    }
   ],
   "source": [
    "#fitur yang nilainya 0 dicari \n",
    "\n",
    "stats = X.describe()\n",
    "std = stats.loc['std']\n",
    "features_no_variance = std[std == 0.0].index\n",
    "pd.Series(features_no_variance).sort_values()"
   ]
  },
  {
   "cell_type": "code",
   "execution_count": 7,
   "metadata": {},
   "outputs": [],
   "source": [
    "#fitur yang nilainya 0 dihapus\n",
    "X = X.drop(columns=features_no_variance)"
   ]
  },
  {
   "cell_type": "code",
   "execution_count": 5,
   "metadata": {},
   "outputs": [],
   "source": [
    "#fitur timestamp dan dst_port bertipe obyek, maka dihapus saja\n",
    "X = X.drop(columns=['timestamp', 'dst_port'])"
   ]
  },
  {
   "cell_type": "markdown",
   "metadata": {},
   "source": [
    "### 2.1. Train / Test split\n",
    "\n",
    "In order to train and evaluate different models a train/evaluation/test split is created with the ratios of `0.8/0.1/0.1`.  \n",
    "The split is stratified using the attack category in order to guarantee that all attacks are represented in the training and test set based on their occurences in the dataset.  \n",
    "To use algorithms expecting categorical values being one-hot-encoded, copies of the training and test data are created (`X_train_oh`, `X_test_oh`) with the feature `protocol` being one-hot-encoded."
   ]
  },
  {
   "cell_type": "code",
   "execution_count": 9,
   "metadata": {},
   "outputs": [],
   "source": [
    "## bagi dataset menjadi 80 % untuk training, 10 % untuk testing, 10% untuk evaluasi\n",
    "X_train, X_hold, y_train, y_hold = train_test_split(X, y, test_size=0.2, stratify=y.label_cat)\n",
    "X_eval, X_test, y_eval, y_test = train_test_split(X_hold, y_hold, test_size=0.5, stratify=y_hold.label_cat)\n",
    "\n",
    "X_train_oh = pd.get_dummies(X_train, columns=['protocol'])\n",
    "X_eval_oh = pd.get_dummies(X_eval, columns=['protocol'])\n",
    "X_test_oh = pd.get_dummies(X_test, columns=['protocol'])"
   ]
  },
  {
   "cell_type": "code",
   "execution_count": 8,
   "metadata": {},
   "outputs": [
    {
     "data": {
      "text/plain": [
       "Benign                      1442849\n",
       "DoS attacks-Hulk             461912\n",
       "DoS attacks-SlowHTTPTest     139890\n",
       "DoS attacks-GoldenEye         41508\n",
       "DoS attacks-Slowloris         10990\n",
       "Name: label, dtype: int64"
      ]
     },
     "execution_count": 8,
     "metadata": {},
     "output_type": "execute_result"
    }
   ],
   "source": [
    "## hitung jumlah sampel per kategori di dataset\n",
    "y.label.value_counts()"
   ]
  },
  {
   "cell_type": "code",
   "execution_count": 9,
   "metadata": {},
   "outputs": [
    {
     "data": {
      "text/plain": [
       "Benign                      1154279\n",
       "DoS attacks-Hulk             369530\n",
       "DoS attacks-SlowHTTPTest     111912\n",
       "DoS attacks-GoldenEye         33206\n",
       "DoS attacks-Slowloris          8792\n",
       "Name: label, dtype: int64"
      ]
     },
     "execution_count": 9,
     "metadata": {},
     "output_type": "execute_result"
    }
   ],
   "source": [
    "## hitung jumlah sampel y_train 80%\n",
    "y_train.label.value_counts()"
   ]
  },
  {
   "cell_type": "code",
   "execution_count": 10,
   "metadata": {},
   "outputs": [
    {
     "data": {
      "text/plain": [
       "Benign                      144285\n",
       "DoS attacks-Hulk             46191\n",
       "DoS attacks-SlowHTTPTest     13989\n",
       "DoS attacks-GoldenEye         4151\n",
       "DoS attacks-Slowloris         1099\n",
       "Name: label, dtype: int64"
      ]
     },
     "execution_count": 10,
     "metadata": {},
     "output_type": "execute_result"
    }
   ],
   "source": [
    "## sampel testing 10%\n",
    "y_test.label.value_counts()"
   ]
  },
  {
   "cell_type": "code",
   "execution_count": 11,
   "metadata": {},
   "outputs": [
    {
     "data": {
      "text/plain": [
       "Benign                      144285\n",
       "DoS attacks-Hulk             46191\n",
       "DoS attacks-SlowHTTPTest     13989\n",
       "DoS attacks-GoldenEye         4151\n",
       "DoS attacks-Slowloris         1099\n",
       "Name: label, dtype: int64"
      ]
     },
     "execution_count": 11,
     "metadata": {},
     "output_type": "execute_result"
    }
   ],
   "source": [
    "## sampel evaluasi 10%\n",
    "y_eval.label.value_counts()"
   ]
  },
  {
   "cell_type": "code",
   "execution_count": 18,
   "metadata": {},
   "outputs": [
    {
     "name": "stdout",
     "output_type": "stream",
     "text": [
      "Class occurences:\n",
      "0    1154279\n",
      "1     523440\n",
      "Name: label_is_attack, dtype: int64\n",
      "Percentage of benign samples: 0.6880\n"
     ]
    }
   ],
   "source": [
    "## hitung persentasi antara sampel attack dengan benign di y_train\n",
    "## hasilnya 68% benign, dan sisanya adalah sampel attack\n",
    "\n",
    "percentage_benign = len(y_train.label_is_attack[y_train.label_is_attack == 0]) / len(y_train.label_is_attack)\n",
    "\n",
    "print('Class occurences:')\n",
    "print(y_train.label_is_attack.value_counts())\n",
    "print('Percentage of benign samples: %.4f' % percentage_benign)"
   ]
  },
  {
   "cell_type": "markdown",
   "metadata": {},
   "source": [
    "## 3. Classifier"
   ]
  },
  {
   "cell_type": "markdown",
   "metadata": {},
   "source": [
    "#### algoritma yang dipake sesuai Paper Qianru Zhou \n",
    "- Random forest\n",
    "- Gaussian naïve bayes\n",
    "- Decision tree\n",
    "- MLP\n",
    "- K-nn\n",
    "- Quadratic discriminant analysis"
   ]
  },
  {
   "cell_type": "code",
   "execution_count": 10,
   "metadata": {},
   "outputs": [
    {
     "data": {
      "image/png": "[encoded data removed]",
      "text/plain": [
       "<Figure size 576x360 with 1 Axes>"
      ]
     },
     "metadata": {
      "needs_background": "light"
     },
     "output_type": "display_data"
    },
    {
     "name": "stdout",
     "output_type": "stream",
     "text": [
      "Average PR Score 0.31199485015378015\n",
      "Time to fit Data Train\n",
      "0:00:00.36\n"
     ]
    }
   ],
   "source": [
    "## 1. baseline clasifier (dummy clasifier)\n",
    "\n",
    "start_time = time()\n",
    "cls_dummy = DummyClassifier('most_frequent')\n",
    "cls_dummy.fit(X_train_oh, y_train.label_is_attack)\n",
    "\n",
    "pred_val_proba_dummy = predict_proba_positive(cls_dummy, X_eval_oh)\n",
    "plot_pr_curve(y_eval.label_is_attack.values, pred_val_proba_dummy)\n",
    "\n",
    "end_time=time()\n",
    "total=end_time-start_time\n",
    "print (\"Time to fit Data Train\".format(hms_string(total)))\n",
    "print(hms_string(total))"
   ]
  },
  {
   "cell_type": "code",
   "execution_count": 11,
   "metadata": {},
   "outputs": [
    {
     "name": "stdout",
     "output_type": "stream",
     "text": [
      "Classification Report:\n",
      "======================\n"
     ]
    },
    {
     "name": "stderr",
     "output_type": "stream",
     "text": [
      "/opt/anaconda3/lib/python3.7/site-packages/sklearn/metrics/_classification.py:1272: UndefinedMetricWarning: Precision and F-score are ill-defined and being set to 0.0 in labels with no predicted samples. Use `zero_division` parameter to control this behavior.\n",
      "  _warn_prf(average, modifier, msg_start, len(result))\n"
     ]
    },
    {
     "name": "stdout",
     "output_type": "stream",
     "text": [
      "              precision    recall  f1-score   support\n",
      "\n",
      "           0      0.688     1.000     0.815    144285\n",
      "           1      0.000     0.000     0.000     65430\n",
      "\n",
      "    accuracy                          0.688    209715\n",
      "   macro avg      0.344     0.500     0.408    209715\n",
      "weighted avg      0.473     0.688     0.561    209715\n",
      "\n",
      "Confusion Matrix:\n",
      "=================\n"
     ]
    },
    {
     "data": {
      "image/png": "[encoded data removed]",
      "text/plain": [
       "<Figure size 360x360 with 2 Axes>"
      ]
     },
     "metadata": {
      "needs_background": "light"
     },
     "output_type": "display_data"
    },
    {
     "name": "stdout",
     "output_type": "stream",
     "text": [
      "Misclassifications by attack category:\n",
      "======================================\n"
     ]
    },
    {
     "data": {
      "text/html": [
       "<div>\n",
       "<style scoped>\n",
       "    .dataframe tbody tr th:only-of-type {\n",
       "        vertical-align: middle;\n",
       "    }\n",
       "\n",
       "    .dataframe tbody tr th {\n",
       "        vertical-align: top;\n",
       "    }\n",
       "\n",
       "    .dataframe thead th {\n",
       "        text-align: right;\n",
       "    }\n",
       "</style>\n",
       "<table border=\"1\" class=\"dataframe\">\n",
       "  <thead>\n",
       "    <tr style=\"text-align: right;\">\n",
       "      <th></th>\n",
       "      <th>misclassified</th>\n",
       "      <th>total</th>\n",
       "      <th>percent_misclassified</th>\n",
       "    </tr>\n",
       "  </thead>\n",
       "  <tbody>\n",
       "    <tr>\n",
       "      <th>DoS attacks-Hulk</th>\n",
       "      <td>46191</td>\n",
       "      <td>46191</td>\n",
       "      <td>1.0</td>\n",
       "    </tr>\n",
       "    <tr>\n",
       "      <th>DoS attacks-SlowHTTPTest</th>\n",
       "      <td>13989</td>\n",
       "      <td>13989</td>\n",
       "      <td>1.0</td>\n",
       "    </tr>\n",
       "    <tr>\n",
       "      <th>DoS attacks-GoldenEye</th>\n",
       "      <td>4151</td>\n",
       "      <td>4151</td>\n",
       "      <td>1.0</td>\n",
       "    </tr>\n",
       "    <tr>\n",
       "      <th>DoS attacks-Slowloris</th>\n",
       "      <td>1099</td>\n",
       "      <td>1099</td>\n",
       "      <td>1.0</td>\n",
       "    </tr>\n",
       "  </tbody>\n",
       "</table>\n",
       "</div>"
      ],
      "text/plain": [
       "                          misclassified  total  percent_misclassified\n",
       "DoS attacks-Hulk                  46191  46191                    1.0\n",
       "DoS attacks-SlowHTTPTest          13989  13989                    1.0\n",
       "DoS attacks-GoldenEye              4151   4151                    1.0\n",
       "DoS attacks-Slowloris              1099   1099                    1.0"
      ]
     },
     "metadata": {},
     "output_type": "display_data"
    }
   ],
   "source": [
    "## confusion matrix and missclassification table\n",
    "\n",
    "pred_val_dummy = cls_dummy.predict(X_eval_oh)\n",
    "print_binary_performance(y_eval, y_eval.label_is_attack, pred_val_dummy)"
   ]
  },
  {
   "cell_type": "code",
   "execution_count": 19,
   "metadata": {},
   "outputs": [
    {
     "data": {
      "image/png": "[encoded data removed]",
      "text/plain": [
       "<Figure size 576x360 with 1 Axes>"
      ]
     },
     "metadata": {
      "needs_background": "light"
     },
     "output_type": "display_data"
    },
    {
     "name": "stdout",
     "output_type": "stream",
     "text": [
      "Average PR Score 0.9999677095086864\n",
      "Time to fit Data Train\n",
      "0:14:53.84\n"
     ]
    }
   ],
   "source": [
    "## 2. RandomForest form scikit-learn with default value\n",
    "## coba dari source code binary classification\n",
    "\n",
    "start_time = time()\n",
    "##cls_forest = RandomForestClassifier(verbose=1, n_jobs=-1, class_weight='balanced')\n",
    "##cls_forest = RandomForestClassifier(max_depth=5, n_estimators=10, max_features=1)\n",
    "cls_forest = RandomForestClassifier(n_estimators=100, criterion='gini', min_samples_split=2, min_samples_leaf=1)\n",
    "##cls_forest = RandomForestClassifier()\n",
    "cls_forest.fit(X_train_oh, y_train.label_is_attack)\n",
    "\n",
    "pred_val_proba_rf = predict_proba_positive(cls_forest, X_eval_oh)\n",
    "plot_pr_curve(y_eval.label_is_attack.values, pred_val_proba_rf)\n",
    "\n",
    "end_time=time()\n",
    "total=end_time-start_time\n",
    "print (\"Time to fit Data Train\".format(hms_string(total)))\n",
    "print(hms_string(total))"
   ]
  },
  {
   "cell_type": "code",
   "execution_count": 10,
   "metadata": {},
   "outputs": [
    {
     "data": {
      "image/png": "[encoded data removed]",
      "text/plain": [
       "<Figure size 576x360 with 1 Axes>"
      ]
     },
     "metadata": {
      "needs_background": "light"
     },
     "output_type": "display_data"
    },
    {
     "name": "stdout",
     "output_type": "stream",
     "text": [
      "Average PR Score 0.999978963429668\n",
      "Time to fit Data Train\n",
      "0:26:09.28\n"
     ]
    }
   ],
   "source": [
    "## 2. RandomForest form scikit-learn with default value\n",
    "## coba dari source code binary classification\n",
    "\n",
    "start_time = time()\n",
    "cls_forest = RandomForestClassifier()\n",
    "cls_forest.fit(X_train_oh, y_train.label_is_attack)\n",
    "\n",
    "pred_val_proba_rf = predict_proba_positive(cls_forest, X_eval_oh)\n",
    "plot_pr_curve(y_eval.label_is_attack.values, pred_val_proba_rf)\n",
    "\n",
    "end_time=time()\n",
    "total=end_time-start_time\n",
    "print (\"Time to fit Data Train\".format(hms_string(total)))\n",
    "print(hms_string(total))"
   ]
  },
  {
   "cell_type": "code",
   "execution_count": 38,
   "metadata": {},
   "outputs": [
    {
     "name": "stdout",
     "output_type": "stream",
     "text": [
      "Classification Report:\n",
      "======================\n",
      "              precision    recall  f1-score   support\n",
      "\n",
      "           0      1.000     1.000     1.000    144285\n",
      "           1      1.000     1.000     1.000     65430\n",
      "\n",
      "    accuracy                          1.000    209715\n",
      "   macro avg      1.000     1.000     1.000    209715\n",
      "weighted avg      1.000     1.000     1.000    209715\n",
      "\n",
      "Confusion Matrix:\n",
      "=================\n"
     ]
    },
    {
     "data": {
      "image/png": "[encoded data removed]",
      "text/plain": [
       "<Figure size 360x360 with 2 Axes>"
      ]
     },
     "metadata": {
      "needs_background": "light"
     },
     "output_type": "display_data"
    },
    {
     "name": "stdout",
     "output_type": "stream",
     "text": [
      "Misclassifications by attack category:\n",
      "======================================\n"
     ]
    },
    {
     "data": {
      "text/html": [
       "<div>\n",
       "<style scoped>\n",
       "    .dataframe tbody tr th:only-of-type {\n",
       "        vertical-align: middle;\n",
       "    }\n",
       "\n",
       "    .dataframe tbody tr th {\n",
       "        vertical-align: top;\n",
       "    }\n",
       "\n",
       "    .dataframe thead th {\n",
       "        text-align: right;\n",
       "    }\n",
       "</style>\n",
       "<table border=\"1\" class=\"dataframe\">\n",
       "  <thead>\n",
       "    <tr style=\"text-align: right;\">\n",
       "      <th></th>\n",
       "      <th>misclassified</th>\n",
       "      <th>total</th>\n",
       "      <th>percent_misclassified</th>\n",
       "    </tr>\n",
       "  </thead>\n",
       "  <tbody>\n",
       "    <tr>\n",
       "      <th>DoS attacks-Slowloris</th>\n",
       "      <td>15</td>\n",
       "      <td>1099</td>\n",
       "      <td>0.013649</td>\n",
       "    </tr>\n",
       "    <tr>\n",
       "      <th>Benign</th>\n",
       "      <td>2</td>\n",
       "      <td>144285</td>\n",
       "      <td>0.000014</td>\n",
       "    </tr>\n",
       "  </tbody>\n",
       "</table>\n",
       "</div>"
      ],
      "text/plain": [
       "                       misclassified   total  percent_misclassified\n",
       "DoS attacks-Slowloris             15    1099               0.013649\n",
       "Benign                             2  144285               0.000014"
      ]
     },
     "metadata": {},
     "output_type": "display_data"
    }
   ],
   "source": [
    "## confusion matrix and missclassification table\n",
    "\n",
    "pred_val_rf = cls_forest.predict(X_eval_oh)\n",
    "print_binary_performance(y_eval, y_eval.label_is_attack, pred_val_rf)"
   ]
  },
  {
   "cell_type": "code",
   "execution_count": 16,
   "metadata": {},
   "outputs": [
    {
     "data": {
      "image/png": "[encoded data removed]",
      "text/plain": [
       "<Figure size 576x360 with 1 Axes>"
      ]
     },
     "metadata": {
      "needs_background": "light"
     },
     "output_type": "display_data"
    },
    {
     "name": "stdout",
     "output_type": "stream",
     "text": [
      "Average PR Score 0.6429437152812401\n"
     ]
    }
   ],
   "source": [
    "## 3. Gaussian Naive Bayes\n",
    "start_time = time()\n",
    "cls_nb = GaussianNB(priors=None, var_smoothing=1e-09)\n",
    "cls_nb.fit(X_train_oh, y_train.label_is_attack)\n",
    "\n",
    "pred_val_proba_nb = predict_proba_positive(cls_nb, X_eval_oh)\n",
    "plot_pr_curve(y_eval.label_is_attack.values, pred_val_proba_nb)\n",
    "\n",
    "end_time=time()\n",
    "total=end_time-start_time\n",
    "print (\"Time to fit Data Train\".format(hms_string(total)))\n",
    "print(hms_string(total))"
   ]
  },
  {
   "cell_type": "code",
   "execution_count": 18,
   "metadata": {},
   "outputs": [
    {
     "name": "stdout",
     "output_type": "stream",
     "text": [
      "Classification Report:\n",
      "======================\n",
      "              precision    recall  f1-score   support\n",
      "\n",
      "           0      0.971     0.192     0.320    144285\n",
      "           1      0.357     0.988     0.524     65430\n",
      "\n",
      "    accuracy                          0.440    209715\n",
      "   macro avg      0.664     0.590     0.422    209715\n",
      "weighted avg      0.780     0.440     0.384    209715\n",
      "\n",
      "Confusion Matrix:\n",
      "=================\n"
     ]
    },
    {
     "data": {
      "image/png": "[encoded data removed]",
      "text/plain": [
       "<Figure size 360x360 with 2 Axes>"
      ]
     },
     "metadata": {
      "needs_background": "light"
     },
     "output_type": "display_data"
    },
    {
     "name": "stdout",
     "output_type": "stream",
     "text": [
      "Misclassifications by attack category:\n",
      "======================================\n"
     ]
    },
    {
     "data": {
      "text/html": [
       "<div>\n",
       "<style scoped>\n",
       "    .dataframe tbody tr th:only-of-type {\n",
       "        vertical-align: middle;\n",
       "    }\n",
       "\n",
       "    .dataframe tbody tr th {\n",
       "        vertical-align: top;\n",
       "    }\n",
       "\n",
       "    .dataframe thead th {\n",
       "        text-align: right;\n",
       "    }\n",
       "</style>\n",
       "<table border=\"1\" class=\"dataframe\">\n",
       "  <thead>\n",
       "    <tr style=\"text-align: right;\">\n",
       "      <th></th>\n",
       "      <th>misclassified</th>\n",
       "      <th>total</th>\n",
       "      <th>percent_misclassified</th>\n",
       "    </tr>\n",
       "  </thead>\n",
       "  <tbody>\n",
       "    <tr>\n",
       "      <th>Benign</th>\n",
       "      <td>116627</td>\n",
       "      <td>144285</td>\n",
       "      <td>0.808310</td>\n",
       "    </tr>\n",
       "    <tr>\n",
       "      <th>DoS attacks-GoldenEye</th>\n",
       "      <td>643</td>\n",
       "      <td>4151</td>\n",
       "      <td>0.154902</td>\n",
       "    </tr>\n",
       "    <tr>\n",
       "      <th>DoS attacks-Slowloris</th>\n",
       "      <td>42</td>\n",
       "      <td>1099</td>\n",
       "      <td>0.038217</td>\n",
       "    </tr>\n",
       "    <tr>\n",
       "      <th>DoS attacks-Hulk</th>\n",
       "      <td>131</td>\n",
       "      <td>46191</td>\n",
       "      <td>0.002836</td>\n",
       "    </tr>\n",
       "  </tbody>\n",
       "</table>\n",
       "</div>"
      ],
      "text/plain": [
       "                       misclassified   total  percent_misclassified\n",
       "Benign                        116627  144285               0.808310\n",
       "DoS attacks-GoldenEye            643    4151               0.154902\n",
       "DoS attacks-Slowloris             42    1099               0.038217\n",
       "DoS attacks-Hulk                 131   46191               0.002836"
      ]
     },
     "metadata": {},
     "output_type": "display_data"
    }
   ],
   "source": [
    "pred_val_nb = cls_nb.predict(X_eval_oh)\n",
    "print_binary_performance(y_eval, y_eval.label_is_attack, pred_val_nb)"
   ]
  },
  {
   "cell_type": "code",
   "execution_count": 33,
   "metadata": {},
   "outputs": [
    {
     "data": {
      "image/png": "[encoded data removed]",
      "text/plain": [
       "<Figure size 576x360 with 1 Axes>"
      ]
     },
     "metadata": {
      "needs_background": "light"
     },
     "output_type": "display_data"
    },
    {
     "name": "stdout",
     "output_type": "stream",
     "text": [
      "Average PR Score 0.9999062793898993\n",
      "Time to fit Data Train\n",
      "0:00:37.76\n"
     ]
    }
   ],
   "source": [
    "## 4. Decission Tree\n",
    "\n",
    "start_time = time()\n",
    "##cls_dt = DecisionTreeClassifier(max_depth=5,criterion=\"entropy\")\n",
    "cls_dt = DecisionTreeClassifier(splitter='best', criterion='gini', min_samples_split=2, min_samples_leaf=1)\n",
    "cls_dt.fit(X_train_oh, y_train.label_is_attack)\n",
    "\n",
    "pred_val_proba_dt = predict_proba_positive(cls_dt, X_eval_oh)\n",
    "plot_pr_curve(y_eval.label_is_attack.values, pred_val_proba_dt)\n",
    "\n",
    "end_time=time()\n",
    "total=end_time-start_time\n",
    "print (\"Time to fit Data Train\".format(hms_string(total)))\n",
    "print(hms_string(total))"
   ]
  },
  {
   "cell_type": "code",
   "execution_count": 34,
   "metadata": {},
   "outputs": [
    {
     "name": "stdout",
     "output_type": "stream",
     "text": [
      "Classification Report:\n",
      "======================\n",
      "              precision    recall  f1-score   support\n",
      "\n",
      "           0      1.000     1.000     1.000    144285\n",
      "           1      1.000     1.000     1.000     65430\n",
      "\n",
      "    accuracy                          1.000    209715\n",
      "   macro avg      1.000     1.000     1.000    209715\n",
      "weighted avg      1.000     1.000     1.000    209715\n",
      "\n",
      "Confusion Matrix:\n",
      "=================\n"
     ]
    },
    {
     "data": {
      "image/png": "[encoded data removed]",
      "text/plain": [
       "<Figure size 360x360 with 2 Axes>"
      ]
     },
     "metadata": {
      "needs_background": "light"
     },
     "output_type": "display_data"
    },
    {
     "name": "stdout",
     "output_type": "stream",
     "text": [
      "Misclassifications by attack category:\n",
      "======================================\n"
     ]
    },
    {
     "data": {
      "text/html": [
       "<div>\n",
       "<style scoped>\n",
       "    .dataframe tbody tr th:only-of-type {\n",
       "        vertical-align: middle;\n",
       "    }\n",
       "\n",
       "    .dataframe tbody tr th {\n",
       "        vertical-align: top;\n",
       "    }\n",
       "\n",
       "    .dataframe thead th {\n",
       "        text-align: right;\n",
       "    }\n",
       "</style>\n",
       "<table border=\"1\" class=\"dataframe\">\n",
       "  <thead>\n",
       "    <tr style=\"text-align: right;\">\n",
       "      <th></th>\n",
       "      <th>misclassified</th>\n",
       "      <th>total</th>\n",
       "      <th>percent_misclassified</th>\n",
       "    </tr>\n",
       "  </thead>\n",
       "  <tbody>\n",
       "    <tr>\n",
       "      <th>DoS attacks-Slowloris</th>\n",
       "      <td>15</td>\n",
       "      <td>1099</td>\n",
       "      <td>0.013649</td>\n",
       "    </tr>\n",
       "    <tr>\n",
       "      <th>Benign</th>\n",
       "      <td>2</td>\n",
       "      <td>144285</td>\n",
       "      <td>0.000014</td>\n",
       "    </tr>\n",
       "  </tbody>\n",
       "</table>\n",
       "</div>"
      ],
      "text/plain": [
       "                       misclassified   total  percent_misclassified\n",
       "DoS attacks-Slowloris             15    1099               0.013649\n",
       "Benign                             2  144285               0.000014"
      ]
     },
     "metadata": {},
     "output_type": "display_data"
    }
   ],
   "source": [
    "pred_val_dt = cls_dt.predict(X_eval_oh)\n",
    "print_binary_performance(y_eval, y_eval.label_is_attack, pred_val_dt)"
   ]
  },
  {
   "cell_type": "code",
   "execution_count": 21,
   "metadata": {},
   "outputs": [
    {
     "data": {
      "image/png": "[encoded data removed]",
      "text/plain": [
       "<Figure size 576x360 with 1 Axes>"
      ]
     },
     "metadata": {
      "needs_background": "light"
     },
     "output_type": "display_data"
    },
    {
     "name": "stdout",
     "output_type": "stream",
     "text": [
      "Average PR Score 0.44486232291522815\n"
     ]
    }
   ],
   "source": [
    "## 5. MLP\n",
    "from sklearn.neural_network import MLPClassifier\n",
    "\n",
    "start_time = time()\n",
    "##cls_mlp = MLPClassifier(hidden_layer_sizes=(13,13,13),max_iter=500)\n",
    "cls_mlp= MLPClassifier(hidden_layer_sizes=(100, ), activation='relu', solver='adam', alpha=0.0001, batch_size='auto', learning_rate='constant', learning_rate_init=0.001, power_t=0.5, max_iter=200, shuffle=True, random_state=None, tol=0.0001, verbose=False, warm_start=False, momentum=0.9, nesterovs_momentum=True, early_stopping=False, validation_fraction=0.1, beta_1=0.9, beta_2=0.999, epsilon=1e-08, n_iter_no_change=10, max_fun=15000)\n",
    "cls_mlp.fit(X_train_oh, y_train.label_is_attack)\n",
    "\n",
    "pred_val_proba_mlp = predict_proba_positive(cls_mlp, X_eval_oh)\n",
    "plot_pr_curve(y_eval.label_is_attack.values, pred_val_proba_mlp)\n",
    "\n",
    "end_time=time()\n",
    "total=end_time-start_time\n",
    "print (\"Time to fit Data Train\".format(hms_string(total)))\n",
    "print(hms_string(total))"
   ]
  },
  {
   "cell_type": "code",
   "execution_count": 19,
   "metadata": {},
   "outputs": [
    {
     "name": "stdout",
     "output_type": "stream",
     "text": [
      "Classification Report:\n",
      "======================\n",
      "              precision    recall  f1-score   support\n",
      "\n",
      "           0      0.838     0.997     0.911    144285\n",
      "           1      0.990     0.573     0.726     65430\n",
      "\n",
      "    accuracy                          0.865    209715\n",
      "   macro avg      0.914     0.785     0.818    209715\n",
      "weighted avg      0.885     0.865     0.853    209715\n",
      "\n",
      "Confusion Matrix:\n",
      "=================\n"
     ]
    },
    {
     "data": {
      "image/png": "[encoded data removed]",
      "text/plain": [
       "<Figure size 360x360 with 2 Axes>"
      ]
     },
     "metadata": {
      "needs_background": "light"
     },
     "output_type": "display_data"
    },
    {
     "name": "stdout",
     "output_type": "stream",
     "text": [
      "Misclassifications by attack category:\n",
      "======================================\n"
     ]
    },
    {
     "data": {
      "text/html": [
       "<div>\n",
       "<style scoped>\n",
       "    .dataframe tbody tr th:only-of-type {\n",
       "        vertical-align: middle;\n",
       "    }\n",
       "\n",
       "    .dataframe tbody tr th {\n",
       "        vertical-align: top;\n",
       "    }\n",
       "\n",
       "    .dataframe thead th {\n",
       "        text-align: right;\n",
       "    }\n",
       "</style>\n",
       "<table border=\"1\" class=\"dataframe\">\n",
       "  <thead>\n",
       "    <tr style=\"text-align: right;\">\n",
       "      <th></th>\n",
       "      <th>misclassified</th>\n",
       "      <th>total</th>\n",
       "      <th>percent_misclassified</th>\n",
       "    </tr>\n",
       "  </thead>\n",
       "  <tbody>\n",
       "    <tr>\n",
       "      <th>DoS attacks-SlowHTTPTest</th>\n",
       "      <td>13989</td>\n",
       "      <td>13989</td>\n",
       "      <td>1.000000</td>\n",
       "    </tr>\n",
       "    <tr>\n",
       "      <th>DoS attacks-Slowloris</th>\n",
       "      <td>1099</td>\n",
       "      <td>1099</td>\n",
       "      <td>1.000000</td>\n",
       "    </tr>\n",
       "    <tr>\n",
       "      <th>DoS attacks-GoldenEye</th>\n",
       "      <td>4150</td>\n",
       "      <td>4151</td>\n",
       "      <td>0.999759</td>\n",
       "    </tr>\n",
       "    <tr>\n",
       "      <th>DoS attacks-Hulk</th>\n",
       "      <td>8684</td>\n",
       "      <td>46191</td>\n",
       "      <td>0.188002</td>\n",
       "    </tr>\n",
       "    <tr>\n",
       "      <th>Benign</th>\n",
       "      <td>368</td>\n",
       "      <td>144285</td>\n",
       "      <td>0.002551</td>\n",
       "    </tr>\n",
       "  </tbody>\n",
       "</table>\n",
       "</div>"
      ],
      "text/plain": [
       "                          misclassified   total  percent_misclassified\n",
       "DoS attacks-SlowHTTPTest          13989   13989               1.000000\n",
       "DoS attacks-Slowloris              1099    1099               1.000000\n",
       "DoS attacks-GoldenEye              4150    4151               0.999759\n",
       "DoS attacks-Hulk                   8684   46191               0.188002\n",
       "Benign                              368  144285               0.002551"
      ]
     },
     "metadata": {},
     "output_type": "display_data"
    }
   ],
   "source": [
    "pred_val_mlp = cls_mlp.predict(X_eval_oh)\n",
    "print_binary_performance(y_eval, y_eval.label_is_attack, pred_val_mlp)"
   ]
  },
  {
   "cell_type": "code",
   "execution_count": null,
   "metadata": {},
   "outputs": [],
   "source": [
    "## 6. KNN\n",
    "\n",
    "start_time = time()\n",
    "cls_knn = KNeighborsClassifier(n_neighbors=5,  weight='uniform', leaf_size=30, p=2, metric='minkowski')\n",
    "cls_knn.fit(X_train_oh, y_train.label_is_attack)\n",
    "\n",
    "pred_val_proba_knn = predict_proba_positive(cls_knn, X_eval_oh)\n",
    "plot_pr_curve(y_eval.label_is_attack.values, pred_val_proba_knn)\n",
    "\n",
    "end_time=time()\n",
    "total=end_time-start_time\n",
    "print (\"Time to fit Data Train\".format(hms_string(total)))\n",
    "print(hms_string(total))"
   ]
  },
  {
   "cell_type": "code",
   "execution_count": null,
   "metadata": {},
   "outputs": [],
   "source": [
    "pred_val_knn = cls_knn.predict(X_eval_oh)\n",
    "print_binary_performance(y_eval, y_eval.label_is_attack, pred_val_knn)"
   ]
  },
  {
   "cell_type": "code",
   "execution_count": null,
   "metadata": {},
   "outputs": [],
   "source": [
    "## 7. QDA\n",
    "from sklearn.discriminant_analysis import QuadraticDiscriminantAnalysis as QDA\n",
    "\n",
    "start_time = time()\n",
    "cls_qda = QDA(Priors=None, reg_param=0.0)\n",
    "cls_qda.fit(X_train_oh, y_train.label_is_attack)\n",
    "\n",
    "pred_val_proba_qda = predict_proba_positive(cls_qda, X_eval_oh)\n",
    "plot_pr_curve(y_eval.label_is_attack.values, pred_val_proba_qda)\n",
    "\n",
    "end_time=time()\n",
    "total=end_time-start_time\n",
    "print (\"Time to fit Data Train\".format(hms_string(total)))\n",
    "print(hms_string(total))"
   ]
  },
  {
   "cell_type": "code",
   "execution_count": null,
   "metadata": {},
   "outputs": [],
   "source": [
    "pred_val_qda = cls_qda.predict(X_eval_oh)\n",
    "print_binary_performance(y_eval, y_eval.label_is_attack, pred_val_qda)"
   ]
  },
  {
   "cell_type": "markdown",
   "metadata": {},
   "source": [
    "### algoritma lainnya misalnya Log regresion --> tapi algor ini belum ada di paper IDS manapun\n",
    "- Gozde Karatas (Knn, Random Forest, Gradient Boosting, Adaboost, Decision Tree, LDA)"
   ]
  },
  {
   "cell_type": "code",
   "execution_count": null,
   "metadata": {},
   "outputs": [],
   "source": [
    "## 8. Log Regression from scikit-learn with default value\n",
    "start_time = time()\n",
    "##cls_lr = LogisticRegression(solver='saga', n_jobs=-1, verbose=2)\n",
    "cls_lr= LogisticRegression(penalty='l2', dual=False, tol=0.0001, C=1.0, fit_intercept=True, intercept_scaling=1, class_weight=None, random_state=None, solver='lbfgs', max_iter=100, multi_class='auto', verbose=0, warm_start=False, n_jobs=None, l1_ratio=None)\n",
    "cls_lr.fit(scaler.transform(X_train_oh), y_train.label_is_attack)\n",
    "\n",
    "pred_val_proba_lr = predict_proba_positive(cls_lr, X_eval_oh)\n",
    "plot_pr_curve(y_eval.label_is_attack.values, pred_val_proba_lr)\n",
    "\n",
    "end_time=time()\n",
    "total=end_time-start_time\n",
    "print (\"Time to fit Data Train\".format(hms_string(total)))\n",
    "print(hms_string(total))"
   ]
  },
  {
   "cell_type": "code",
   "execution_count": null,
   "metadata": {},
   "outputs": [],
   "source": [
    "pred_val_lr = cls_lr.predict(X_eval_oh)\n",
    "print_binary_performance(y_eval, y_eval.label_is_attack, pred_val_lr)"
   ]
  },
  {
   "cell_type": "code",
   "execution_count": null,
   "metadata": {},
   "outputs": [],
   "source": [
    "## 9. Gradient Boosting form CatBoost --> opensource \n",
    "train_pool = Pool(X_train, y_train.label_is_attack, cat_features=['protocol'])\n",
    "eval_pool = Pool(X_eval, y_eval.label_is_attack, cat_features=['protocol'])\n",
    "test_pool = Pool(X_test, cat_features=['protocol'])"
   ]
  },
  {
   "cell_type": "code",
   "execution_count": null,
   "metadata": {},
   "outputs": [],
   "source": [
    "start_time = time()\n",
    "minority_class_weight = len(y_train[y_train.label_is_attack == 0]) / len(y_train[y_train.label_is_attack == 1])\n",
    "    \n",
    "cls_cb = CatBoostClassifier(loss_function='Logloss',\n",
    "                            eval_metric='Recall',                        \n",
    "                            class_weights=[1, minority_class_weight],\n",
    "                            task_type='GPU',\n",
    "                            verbose=True)\n",
    "\n",
    "cls_cb.fit(train_pool, eval_set=eval_pool)\n",
    "end_time=time()\n",
    "total=end_time-start_time"
   ]
  },
  {
   "cell_type": "code",
   "execution_count": null,
   "metadata": {},
   "outputs": [],
   "source": [
    "print_report('Train', cls_cb, train_pool, y_train.label_is_attack, cls_cb.predict(train_pool))\n",
    "print_report('Eval', cls_cb, eval_pool, y_eval.label_is_attack, cls_cb.predict(eval_pool), plot_pr=True)\n",
    "print (\"Time to fit Data Train\".format(hms_string(total)))\n",
    "print(hms_string(total))"
   ]
  },
  {
   "cell_type": "markdown",
   "metadata": {},
   "source": [
    "### 4.5 Model selection\n",
    "\n",
    "Comparing the models the following results are obtained:\n",
    "\n",
    "|Model|Recall|Precision|F1|Avg PR|Recall Attack|Precision Attack|\n",
    "|-----|---------|------|--|------|-------------|----------------|\n",
    "|Baseline|0.83|0.69|0.75|0.169|0.00|0.00|\n",
    "|Logistic Regression|0.88|0.86|0.87|0.422|0.49|0.68|\n",
    "|Random Forest|**0.99**|0.99|0.99|0.925|**0.95**|**0.96**|\n",
    "|Gradient Boost|**0.99**|0.99|0.99|0.933|**0.96**|**0.97**|\n",
    "|z|0.00|0.00|0.00|0|0|\n",
    "\n",
    "Gradient Boost performed best of all models and will be used as the final estimator."
   ]
  },
  {
   "cell_type": "code",
   "execution_count": null,
   "metadata": {},
   "outputs": [],
   "source": []
  }
 ],
 "metadata": {
  "kernelspec": {
   "display_name": "Python 3",
   "language": "python",
   "name": "python3"
  },
  "language_info": {
   "codemirror_mode": {
    "name": "ipython",
    "version": 3
   },
   "file_extension": ".py",
   "mimetype": "text/x-python",
   "name": "python",
   "nbconvert_exporter": "python",
   "pygments_lexer": "ipython3",
   "version": "3.7.6"
  }
 },
 "nbformat": 4,
 "nbformat_minor": 4
}
