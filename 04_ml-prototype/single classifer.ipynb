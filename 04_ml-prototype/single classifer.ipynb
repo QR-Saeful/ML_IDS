{
 "cells": [
  {
   "cell_type": "markdown",
   "metadata": {},
   "source": [
    "### 1. Load dataset"
   ]
  },
  {
   "cell_type": "code",
   "execution_count": 1,
   "metadata": {},
   "outputs": [],
   "source": [
    "dataset_base_path = r'/Users/kripik123/Documents/dataset/processedx/selected_fiture_per-dataset/'\n",
    "\n",
    "import numpy as np\n",
    "import pandas as pd\n",
    "import matplotlib.pyplot as plt\n",
    "import seaborn as sns\n",
    "import glob\n",
    "import os\n",
    "import scikitplot as skplt\n",
    "from sklearn.model_selection import train_test_split\n",
    "from sklearn.preprocessing import StandardScaler\n",
    "from sklearn.dummy import DummyClassifier\n",
    "from sklearn.linear_model import LogisticRegression\n",
    "from sklearn.ensemble import RandomForestClassifier\n",
    "from sklearn.discriminant_analysis import QuadraticDiscriminantAnalysis as QDA\n",
    "from sklearn.naive_bayes import GaussianNB\n",
    "from sklearn.neighbors import KNeighborsClassifier\n",
    "from sklearn.tree import DecisionTreeClassifier\n",
    "\n",
    "from sklearn.metrics import classification_report, precision_recall_curve, average_precision_score\n",
    "from catboost import CatBoostClassifier\n",
    "from catboost import Pool\n",
    "from scipy.stats import spearmanr\n",
    "from scipy.cluster import hierarchy\n",
    "from collections import defaultdict\n",
    "from scipy.stats import describe\n",
    "from collections import Counter\n",
    "from IPython.display import display\n",
    "from time import time #time stamp for all processing time\n",
    "\n",
    "%matplotlib inline"
   ]
  },
  {
   "cell_type": "code",
   "execution_count": 2,
   "metadata": {},
   "outputs": [],
   "source": [
    "types = {\n",
    "    'protocol': 'uint8',\n",
    "    'flow_duration': 'int64',\n",
    "    'tot_fwd_pkts': 'uint32',\n",
    "    'tot_bwd_pkts': 'uint32',\n",
    "    'totlen_fwd_pkts': 'uint32',\n",
    "    'totlen_bwd_pkts': 'uint32',\n",
    "    'fwd_pkt_len_mean': 'float32',\n",
    "    'fwd_pkt_len_std': 'float32',\n",
    "    'bwd_pkt_len_mean': 'float32',\n",
    "    'flow_byts_s': 'float64',\n",
    "    'flow_pkts_s': 'float64',\n",
    "    'flow_iat_std': 'float32',\n",
    "    'flow_iat_min': 'int64',\n",
    "    'fwd_iat_tot': 'int64',\n",
    "    'fwd_iat_min': 'int64',\n",
    "    'bwd_iat_tot': 'uint32',\n",
    "    'bwd_iat_min': 'uint32',\n",
    "    'fwd_psh_flags': 'uint8',\n",
    "    'fwd_urg_flags': 'uint8',\n",
    "    'bwd_pkts_s': 'float32',\n",
    "    'fin_flag_cnt': 'uint8',\n",
    "    'rst_flag_cnt': 'uint8',\n",
    "    'psh_flag_cnt': 'uint8',\n",
    "    'ack_flag_cnt': 'uint8',\n",
    "    'urg_flag_cnt': 'uint8',\n",
    "    'down_up_ratio': 'uint16',\n",
    "    'init_fwd_win_byts': 'int32',\n",
    "    'init_bwd_win_byts': 'int32',\n",
    "    'fwd_seg_size_min': 'uint8',\n",
    "    'active_mean': 'float32',\n",
    "    'idle_mean': 'float32',\n",
    "    'label': 'category'\n",
    "}\n",
    "\n",
    "def replace_infinity_with_mean(df):\n",
    "    inf_columns = [c for c in df.columns if df[df[c] == np.inf][c].count() > 0]\n",
    "    for col in inf_columns:\n",
    "        df[col].replace([np.inf, -np.inf], np.nan, inplace=True)\n",
    "        mean = df[col].mean()\n",
    "        df[col].fillna(mean, inplace=True)\n",
    "    return df\n",
    "\n",
    "\n",
    "def replace_negative_values_with_mean(df):\n",
    "    numeric_cols = df.select_dtypes(include=[np.number]).columns.values\n",
    "    \n",
    "    columns = [c for c in numeric_cols if df[df[c] < 0][c].count() > 0]\n",
    "    for col in columns:\n",
    "        mask = df[col] < 0\n",
    "        df.loc[mask, col] = np.nan\n",
    "        mean = df[col].mean()\n",
    "        df[col].fillna(mean, inplace=True)\n",
    "    return df\n",
    "\n",
    "def hms_string(sec_elapsed):\n",
    "    h = int(sec_elapsed / (60 * 60))\n",
    "    m = int((sec_elapsed % (60 * 60)) / 60)\n",
    "    s = sec_elapsed % 60.\n",
    "    return \"{}:{:>02}:{:>05.2f}\".format(h, m, s)\n",
    "\n",
    "def load_dataset(files, dtypes, cols=None):\n",
    "    df = pd.concat((pd.read_csv(f, dtype=dtypes, usecols=cols) for f in files))\n",
    "    \n",
    "    df = replace_infinity_with_mean(df)\n",
    "    df = replace_negative_values_with_mean(df)\n",
    "        \n",
    "    df['label_cat'] = df.label.astype('category').cat.codes\n",
    "    df['label_is_attack'] = (df.label != 'Benign').astype('int')\n",
    "    return df"
   ]
  },
  {
   "cell_type": "markdown",
   "metadata": {},
   "source": [
    "## 2. Preprocessing Data"
   ]
  },
  {
   "cell_type": "code",
   "execution_count": 3,
   "metadata": {},
   "outputs": [],
   "source": [
    "#join all csv\n",
    "#split data jadi-2 X dan Y\n",
    "csv_files = glob.glob(os.path.join(dataset_base_path, 'dos-*.csv'))\n",
    "\n",
    "df = load_dataset(csv_files, types)\n",
    "X = df.drop(columns=['label', 'label_cat', 'label_is_attack'])\n",
    "y = df[['label_is_attack', 'label_cat', 'label']]"
   ]
  },
  {
   "cell_type": "code",
   "execution_count": 4,
   "metadata": {},
   "outputs": [],
   "source": [
    "## bagi dataset menjadi 80 % untuk training, 10 % untuk testing, 10% untuk evaluasi\n",
    "X_train, X_hold, y_train, y_hold = train_test_split(X, y, test_size=0.2, stratify=y.label_cat)\n",
    "X_eval, X_test, y_eval, y_test = train_test_split(X_hold, y_hold, test_size=0.5, stratify=y_hold.label_cat)\n",
    "\n",
    "##X_train_oh = pd.get_dummies(X_train, columns=['protocol'])\n",
    "##X_eval_oh = pd.get_dummies(X_eval, columns=['protocol'])\n",
    "##X_test_oh = pd.get_dummies(X_test, columns=['protocol'])"
   ]
  },
  {
   "cell_type": "code",
   "execution_count": 5,
   "metadata": {},
   "outputs": [
    {
     "data": {
      "text/plain": [
       "Benign                      1442849\n",
       "DoS attacks-Hulk             461912\n",
       "DoS attacks-SlowHTTPTest     139890\n",
       "DoS attacks-GoldenEye         41508\n",
       "DoS attacks-Slowloris         10990\n",
       "Name: label, dtype: int64"
      ]
     },
     "execution_count": 5,
     "metadata": {},
     "output_type": "execute_result"
    }
   ],
   "source": [
    "## hitung jumlah sampel per kategori di dataset\n",
    "y.label.value_counts()"
   ]
  },
  {
   "cell_type": "code",
   "execution_count": 6,
   "metadata": {},
   "outputs": [
    {
     "name": "stdout",
     "output_type": "stream",
     "text": [
      "Class occurences:\n",
      "0    1154279\n",
      "1     523440\n",
      "Name: label_is_attack, dtype: int64\n",
      "Percentage of benign samples: 0.6880\n"
     ]
    }
   ],
   "source": [
    "## hitung persentasi antara sampel attack dengan benign\n",
    "\n",
    "percentage_benign = len(y_train.label_is_attack[y_train.label_is_attack == 0]) / len(y_train.label_is_attack)\n",
    "\n",
    "print('Class occurences:')\n",
    "print(y_train.label_is_attack.value_counts())\n",
    "print('Percentage of benign samples: %.4f' % percentage_benign)"
   ]
  },
  {
   "cell_type": "markdown",
   "metadata": {},
   "source": [
    "## 3. Classifier"
   ]
  },
  {
   "cell_type": "code",
   "execution_count": 7,
   "metadata": {},
   "outputs": [],
   "source": [
    "## 0 fungsi print report terdiri dari precision score, confusion matrix, f1 score, recall score\n",
    "\n",
    "from sklearn import metrics\n",
    "from sklearn.metrics import average_precision_score\n",
    "from sklearn.metrics import confusion_matrix\n",
    "\n",
    "from sklearn.metrics import f1_score\n",
    "from sklearn.metrics import recall_score\n",
    "from sklearn.metrics import precision_score\n",
    "\n",
    "def print_report(ds_type, cls, X_vals, y_true, y_predict, plot_pr=False, plot_roc=False):\n",
    "    print(f\"Classification Report ({ds_type}):\")\n",
    "    print(classification_report(y_true, y_predict))\n",
    "    print(f\"Avg Precision Score: {average_precision_score(y_true, y_predict, average='weighted')}\")\n",
    "    \n",
    "    if plot_roc:\n",
    "        print(f\"ROC AUC Score: {roc_auc_score(y_true, y_predict)}\")\n",
    "        skplt.metrics.plot_roc(y_true, cls.predict_proba(X_vals))\n",
    "        plt.show()\n",
    "        \n",
    "    if plot_pr:\n",
    "        \n",
    "        skplt.metrics.plot_precision_recall(y_true, cls.predict_proba(X_vals))\n",
    "        plt.show()\n",
    "        \n",
    "    print('\\n')"
   ]
  },
  {
   "cell_type": "markdown",
   "metadata": {},
   "source": [
    "#### algoritma yang dipake sesuai Paper Qianru Zhou \n",
    "- Random forest\n",
    "- Gaussian naïve bayes\n",
    "- Decision tree\n",
    "- MLP\n",
    "- K-nn\n",
    "- Quadratic discriminant analysis"
   ]
  },
  {
   "cell_type": "code",
   "execution_count": 10,
   "metadata": {},
   "outputs": [
    {
     "name": "stdout",
     "output_type": "stream",
     "text": [
      "Classification Report (Train):\n"
     ]
    },
    {
     "name": "stderr",
     "output_type": "stream",
     "text": [
      "/opt/anaconda3/lib/python3.7/site-packages/sklearn/metrics/_classification.py:1272: UndefinedMetricWarning: Precision and F-score are ill-defined and being set to 0.0 in labels with no predicted samples. Use `zero_division` parameter to control this behavior.\n",
      "  _warn_prf(average, modifier, msg_start, len(result))\n"
     ]
    },
    {
     "name": "stdout",
     "output_type": "stream",
     "text": [
      "              precision    recall  f1-score   support\n",
      "\n",
      "           0       0.95      1.00      0.97    796862\n",
      "           1       0.00      0.00      0.00     41998\n",
      "\n",
      "    accuracy                           0.95    838860\n",
      "   macro avg       0.47      0.50      0.49    838860\n",
      "weighted avg       0.90      0.95      0.93    838860\n",
      "\n",
      "Avg Precision Score: 0.05006556517178075\n",
      "\n",
      "\n",
      "Classification Report (Eval):\n",
      "              precision    recall  f1-score   support\n",
      "\n",
      "           0       0.95      1.00      0.97     99607\n",
      "           1       0.00      0.00      0.00      5250\n",
      "\n",
      "    accuracy                           0.95    104857\n",
      "   macro avg       0.47      0.50      0.49    104857\n",
      "weighted avg       0.90      0.95      0.93    104857\n",
      "\n",
      "Avg Precision Score: 0.050068188103798504\n",
      "\n",
      "\n",
      "Time to fit Data Train\n",
      "0:00:00.04\n"
     ]
    }
   ],
   "source": [
    "## 1. baseline clasifier (dummy clasifier)\n",
    "\n",
    "start_time = time()\n",
    "cls_dummy = DummyClassifier('most_frequent')\n",
    "cls_dummy.fit(X_train, y_train.label_is_attack)\n",
    "end_time=time()\n",
    "total=end_time-start_time\n",
    "print_report('Train', cls_dummy, X_train, y_train.label_is_attack, cls_dummy.predict(X_train))\n",
    "print_report('Eval', cls_dummy, X_eval, y_eval.label_is_attack, cls_dummy.predict(X_eval))\n",
    "print (\"Time to fit Data Train\".format(hms_string(total)))\n",
    "print(hms_string(total))"
   ]
  },
  {
   "cell_type": "code",
   "execution_count": 8,
   "metadata": {},
   "outputs": [
    {
     "name": "stderr",
     "output_type": "stream",
     "text": [
      "[Parallel(n_jobs=-1)]: Using backend ThreadingBackend with 8 concurrent workers.\n",
      "[Parallel(n_jobs=-1)]: Done  34 tasks      | elapsed:   11.7s\n",
      "[Parallel(n_jobs=-1)]: Done 100 out of 100 | elapsed:   32.2s finished\n",
      "[Parallel(n_jobs=8)]: Using backend ThreadingBackend with 8 concurrent workers.\n",
      "[Parallel(n_jobs=8)]: Done  34 tasks      | elapsed:    0.5s\n",
      "[Parallel(n_jobs=8)]: Done 100 out of 100 | elapsed:    1.5s finished\n"
     ]
    },
    {
     "name": "stdout",
     "output_type": "stream",
     "text": [
      "Classification Report (Train):\n",
      "              precision    recall  f1-score   support\n",
      "\n",
      "           0       1.00      1.00      1.00    796862\n",
      "           1       0.99      1.00      1.00     41998\n",
      "\n",
      "    accuracy                           1.00    838860\n",
      "   macro avg       1.00      1.00      1.00    838860\n",
      "weighted avg       1.00      1.00      1.00    838860\n",
      "\n",
      "Avg Precision Score: 0.9922212809713225\n",
      "\n",
      "\n"
     ]
    },
    {
     "name": "stderr",
     "output_type": "stream",
     "text": [
      "[Parallel(n_jobs=8)]: Using backend ThreadingBackend with 8 concurrent workers.\n",
      "[Parallel(n_jobs=8)]: Done  34 tasks      | elapsed:    0.1s\n",
      "[Parallel(n_jobs=8)]: Done 100 out of 100 | elapsed:    0.2s finished\n"
     ]
    },
    {
     "name": "stdout",
     "output_type": "stream",
     "text": [
      "Classification Report (Eval):\n",
      "              precision    recall  f1-score   support\n",
      "\n",
      "           0       1.00      1.00      1.00     99607\n",
      "           1       0.99      1.00      1.00      5250\n",
      "\n",
      "    accuracy                           1.00    104857\n",
      "   macro avg       1.00      1.00      1.00    104857\n",
      "weighted avg       1.00      1.00      1.00    104857\n",
      "\n",
      "Avg Precision Score: 0.9913463525291096\n"
     ]
    },
    {
     "name": "stderr",
     "output_type": "stream",
     "text": [
      "[Parallel(n_jobs=8)]: Using backend ThreadingBackend with 8 concurrent workers.\n",
      "[Parallel(n_jobs=8)]: Done  34 tasks      | elapsed:    0.1s\n",
      "[Parallel(n_jobs=8)]: Done 100 out of 100 | elapsed:    0.2s finished\n"
     ]
    },
    {
     "data": {
      "image/png": "[encoded data removed]",
      "text/plain": [
       "<Figure size 432x288 with 1 Axes>"
      ]
     },
     "metadata": {
      "needs_background": "light"
     },
     "output_type": "display_data"
    },
    {
     "name": "stdout",
     "output_type": "stream",
     "text": [
      "\n",
      "\n",
      "Time to fit Data Train\n",
      "0:00:32.85\n"
     ]
    }
   ],
   "source": [
    "## 2. RandomForest form scikit-learn with default value\n",
    "start_time = time()\n",
    "cls_forest = RandomForestClassifier(verbose=1, n_jobs=-1, class_weight='balanced')\n",
    "cls_forest.fit(X_train_oh, y_train.label_is_attack)\n",
    "end_time=time()\n",
    "total=end_time-start_time\n",
    "print_report('Train', cls_forest, X_train_oh, y_train.label_is_attack, cls_forest.predict(X_train_oh))\n",
    "print_report('Eval', cls_forest, X_eval_oh, y_eval.label_is_attack, cls_forest.predict(X_eval_oh), plot_pr=True)\n",
    "print (\"Time to fit Data Train\".format(hms_string(total)))\n",
    "print(hms_string(total))"
   ]
  },
  {
   "cell_type": "code",
   "execution_count": 7,
   "metadata": {},
   "outputs": [
    {
     "name": "stderr",
     "output_type": "stream",
     "text": [
      "[Parallel(n_jobs=-1)]: Using backend ThreadingBackend with 8 concurrent workers.\n",
      "[Parallel(n_jobs=-1)]: Done  34 tasks      | elapsed:   35.5s\n",
      "[Parallel(n_jobs=-1)]: Done 100 out of 100 | elapsed:  1.7min finished\n",
      "[Parallel(n_jobs=8)]: Using backend ThreadingBackend with 8 concurrent workers.\n",
      "[Parallel(n_jobs=8)]: Done  34 tasks      | elapsed:    0.2s\n",
      "[Parallel(n_jobs=8)]: Done 100 out of 100 | elapsed:    0.5s finished\n"
     ]
    },
    {
     "data": {
      "image/png": "[encoded data removed]",
      "text/plain": [
       "<Figure size 576x360 with 1 Axes>"
      ]
     },
     "metadata": {
      "needs_background": "light"
     },
     "output_type": "display_data"
    },
    {
     "name": "stdout",
     "output_type": "stream",
     "text": [
      "Average PR Score 0.9999894195182414\n"
     ]
    }
   ],
   "source": [
    "## coba dari source code binary classification\n",
    "\n",
    "from ml_ids.visualization import plot_hist, print_binary_performance, plot_pr_curve, plot_pr_curves, plot_pr_threshold_curves\n",
    "from ml_ids.prediction import predict_proba_positive, predict_decision_boundary\n",
    "\n",
    "cls_forest = RandomForestClassifier(verbose=1, n_jobs=-1, class_weight='balanced')\n",
    "cls_forest.fit(X_train, y_train.label_is_attack)\n",
    "\n",
    "pred_val_proba_rf = predict_proba_positive(cls_forest, X_eval)\n",
    "plot_pr_curve(y_eval.label_is_attack.values, pred_val_proba_rf)"
   ]
  },
  {
   "cell_type": "code",
   "execution_count": 14,
   "metadata": {},
   "outputs": [
    {
     "name": "stderr",
     "output_type": "stream",
     "text": [
      "[Parallel(n_jobs=8)]: Using backend ThreadingBackend with 8 concurrent workers.\n",
      "[Parallel(n_jobs=8)]: Done  34 tasks      | elapsed:    0.2s\n",
      "[Parallel(n_jobs=8)]: Done 100 out of 100 | elapsed:    0.6s finished\n"
     ]
    },
    {
     "name": "stdout",
     "output_type": "stream",
     "text": [
      "Classification Report:\n",
      "======================\n",
      "              precision    recall  f1-score   support\n",
      "\n",
      "           0      1.000     1.000     1.000    144285\n",
      "           1      1.000     1.000     1.000     65430\n",
      "\n",
      "    accuracy                          1.000    209715\n",
      "   macro avg      1.000     1.000     1.000    209715\n",
      "weighted avg      1.000     1.000     1.000    209715\n",
      "\n",
      "Confusion Matrix:\n",
      "=================\n"
     ]
    },
    {
     "data": {
      "image/png": "[encoded data removed]",
      "text/plain": [
       "<Figure size 360x360 with 2 Axes>"
      ]
     },
     "metadata": {
      "needs_background": "light"
     },
     "output_type": "display_data"
    },
    {
     "name": "stdout",
     "output_type": "stream",
     "text": [
      "Misclassifications by attack category:\n",
      "======================================\n"
     ]
    },
    {
     "data": {
      "text/html": [
       "<div>\n",
       "<style scoped>\n",
       "    .dataframe tbody tr th:only-of-type {\n",
       "        vertical-align: middle;\n",
       "    }\n",
       "\n",
       "    .dataframe tbody tr th {\n",
       "        vertical-align: top;\n",
       "    }\n",
       "\n",
       "    .dataframe thead th {\n",
       "        text-align: right;\n",
       "    }\n",
       "</style>\n",
       "<table border=\"1\" class=\"dataframe\">\n",
       "  <thead>\n",
       "    <tr style=\"text-align: right;\">\n",
       "      <th></th>\n",
       "      <th>misclassified</th>\n",
       "      <th>total</th>\n",
       "      <th>percent_misclassified</th>\n",
       "    </tr>\n",
       "  </thead>\n",
       "  <tbody>\n",
       "    <tr>\n",
       "      <th>DoS attacks-Slowloris</th>\n",
       "      <td>8</td>\n",
       "      <td>1099</td>\n",
       "      <td>0.007279</td>\n",
       "    </tr>\n",
       "    <tr>\n",
       "      <th>Benign</th>\n",
       "      <td>2</td>\n",
       "      <td>144285</td>\n",
       "      <td>0.000014</td>\n",
       "    </tr>\n",
       "  </tbody>\n",
       "</table>\n",
       "</div>"
      ],
      "text/plain": [
       "                       misclassified   total  percent_misclassified\n",
       "DoS attacks-Slowloris              8    1099               0.007279\n",
       "Benign                             2  144285               0.000014"
      ]
     },
     "metadata": {},
     "output_type": "display_data"
    }
   ],
   "source": [
    "pred_val_rf = cls_forest.predict(X_eval)\n",
    "print_binary_performance(y_eval, y_eval.label_is_attack, pred_val_rf)"
   ]
  },
  {
   "cell_type": "code",
   "execution_count": 9,
   "metadata": {},
   "outputs": [
    {
     "data": {
      "text/plain": [
       "StandardScaler(copy=True, with_mean=True, with_std=True)"
      ]
     },
     "execution_count": 9,
     "metadata": {},
     "output_type": "execute_result"
    }
   ],
   "source": [
    "scaler = StandardScaler()\n",
    "scaler.fit(X_train)"
   ]
  },
  {
   "cell_type": "code",
   "execution_count": 11,
   "metadata": {},
   "outputs": [
    {
     "ename": "NameError",
     "evalue": "name 'print_report' is not defined",
     "output_type": "error",
     "traceback": [
      "\u001b[0;31m---------------------------------------------------------------------------\u001b[0m",
      "\u001b[0;31mNameError\u001b[0m                                 Traceback (most recent call last)",
      "\u001b[0;32m<ipython-input-11-12ba9049954b>\u001b[0m in \u001b[0;36m<module>\u001b[0;34m\u001b[0m\n\u001b[1;32m      9\u001b[0m \u001b[0;31m##print_report('Train', cls_nb, X_train, y_train.label_is_attack, cls_nb.predict(X_train))\u001b[0m\u001b[0;34m\u001b[0m\u001b[0;34m\u001b[0m\u001b[0;34m\u001b[0m\u001b[0m\n\u001b[1;32m     10\u001b[0m \u001b[0;31m##print_report('Eval', cls_nb, X_eval, y_eval.label_is_attack, cls_nb.predict(X_eval))\u001b[0m\u001b[0;34m\u001b[0m\u001b[0;34m\u001b[0m\u001b[0;34m\u001b[0m\u001b[0m\n\u001b[0;32m---> 11\u001b[0;31m \u001b[0mprint_report\u001b[0m\u001b[0;34m(\u001b[0m\u001b[0;34m'Train'\u001b[0m\u001b[0;34m,\u001b[0m \u001b[0mcls_nb\u001b[0m\u001b[0;34m,\u001b[0m \u001b[0mscaler\u001b[0m\u001b[0;34m.\u001b[0m\u001b[0mtransform\u001b[0m\u001b[0;34m(\u001b[0m\u001b[0mX_train\u001b[0m\u001b[0;34m)\u001b[0m\u001b[0;34m,\u001b[0m \u001b[0my_train\u001b[0m\u001b[0;34m.\u001b[0m\u001b[0mlabel_is_attack\u001b[0m\u001b[0;34m,\u001b[0m \u001b[0mcls_nb\u001b[0m\u001b[0;34m.\u001b[0m\u001b[0mpredict\u001b[0m\u001b[0;34m(\u001b[0m\u001b[0mscaler\u001b[0m\u001b[0;34m.\u001b[0m\u001b[0mtransform\u001b[0m\u001b[0;34m(\u001b[0m\u001b[0mX_train\u001b[0m\u001b[0;34m)\u001b[0m\u001b[0;34m)\u001b[0m\u001b[0;34m)\u001b[0m\u001b[0;34m\u001b[0m\u001b[0;34m\u001b[0m\u001b[0m\n\u001b[0m\u001b[1;32m     12\u001b[0m \u001b[0mprint_report\u001b[0m\u001b[0;34m(\u001b[0m\u001b[0;34m'Eval'\u001b[0m\u001b[0;34m,\u001b[0m \u001b[0mcls_nb\u001b[0m\u001b[0;34m,\u001b[0m \u001b[0mscaler\u001b[0m\u001b[0;34m.\u001b[0m\u001b[0mtransform\u001b[0m\u001b[0;34m(\u001b[0m\u001b[0mX_eval\u001b[0m\u001b[0;34m)\u001b[0m\u001b[0;34m,\u001b[0m \u001b[0my_eval\u001b[0m\u001b[0;34m.\u001b[0m\u001b[0mlabel_is_attack\u001b[0m\u001b[0;34m,\u001b[0m \u001b[0mcls_nb\u001b[0m\u001b[0;34m.\u001b[0m\u001b[0mpredict\u001b[0m\u001b[0;34m(\u001b[0m\u001b[0mscaler\u001b[0m\u001b[0;34m.\u001b[0m\u001b[0mtransform\u001b[0m\u001b[0;34m(\u001b[0m\u001b[0mX_eval\u001b[0m\u001b[0;34m)\u001b[0m\u001b[0;34m)\u001b[0m\u001b[0;34m,\u001b[0m \u001b[0mplot_pr\u001b[0m\u001b[0;34m=\u001b[0m\u001b[0;32mTrue\u001b[0m\u001b[0;34m)\u001b[0m\u001b[0;34m\u001b[0m\u001b[0;34m\u001b[0m\u001b[0m\n\u001b[1;32m     13\u001b[0m \u001b[0mprint\u001b[0m \u001b[0;34m(\u001b[0m\u001b[0;34m\"Time to fit Data Train\"\u001b[0m\u001b[0;34m.\u001b[0m\u001b[0mformat\u001b[0m\u001b[0;34m(\u001b[0m\u001b[0mhms_string\u001b[0m\u001b[0;34m(\u001b[0m\u001b[0mtotal\u001b[0m\u001b[0;34m)\u001b[0m\u001b[0;34m)\u001b[0m\u001b[0;34m)\u001b[0m\u001b[0;34m\u001b[0m\u001b[0;34m\u001b[0m\u001b[0m\n",
      "\u001b[0;31mNameError\u001b[0m: name 'print_report' is not defined"
     ]
    }
   ],
   "source": [
    "## 3. Gaussian Naive Bayes\n",
    "from sklearn.naive_bayes import GaussianNB\n",
    "\n",
    "start_time = time()\n",
    "cls_nb = GaussianNB()\n",
    "cls_nb.fit(X_train, y_train.label_is_attack)\n",
    "end_time=time()\n",
    "total=end_time-start_time\n",
    "##print_report('Train', cls_nb, X_train, y_train.label_is_attack, cls_nb.predict(X_train))\n",
    "##print_report('Eval', cls_nb, X_eval, y_eval.label_is_attack, cls_nb.predict(X_eval))\n",
    "print_report('Train', cls_nb, scaler.transform(X_train), y_train.label_is_attack, cls_nb.predict(scaler.transform(X_train)))\n",
    "print_report('Eval', cls_nb, scaler.transform(X_eval), y_eval.label_is_attack, cls_nb.predict(scaler.transform(X_eval)), plot_pr=True)\n",
    "print (\"Time to fit Data Train\".format(hms_string(total)))\n",
    "print(hms_string(total))"
   ]
  },
  {
   "cell_type": "code",
   "execution_count": 12,
   "metadata": {},
   "outputs": [
    {
     "data": {
      "image/png": "[encoded data removed]",
      "text/plain": [
       "<Figure size 576x360 with 1 Axes>"
      ]
     },
     "metadata": {
      "needs_background": "light"
     },
     "output_type": "display_data"
    },
    {
     "name": "stdout",
     "output_type": "stream",
     "text": [
      "Average PR Score 0.646756109382582\n"
     ]
    }
   ],
   "source": [
    "## coba dari source code binary classification\n",
    "\n",
    "cls_nb = GaussianNB()\n",
    "cls_nb.fit(X_train, y_train.label_is_attack)\n",
    "\n",
    "pred_val_proba_nb = predict_proba_positive(cls_nb, X_eval)\n",
    "plot_pr_curve(y_eval.label_is_attack.values, pred_val_proba_nb)"
   ]
  },
  {
   "cell_type": "code",
   "execution_count": 13,
   "metadata": {},
   "outputs": [
    {
     "name": "stdout",
     "output_type": "stream",
     "text": [
      "Classification Report:\n",
      "======================\n",
      "              precision    recall  f1-score   support\n",
      "\n",
      "           0      0.972     0.191     0.319    144285\n",
      "           1      0.356     0.988     0.524     65430\n",
      "\n",
      "    accuracy                          0.439    209715\n",
      "   macro avg      0.664     0.589     0.421    209715\n",
      "weighted avg      0.780     0.439     0.383    209715\n",
      "\n",
      "Confusion Matrix:\n",
      "=================\n"
     ]
    },
    {
     "data": {
      "image/png": "[encoded data removed]",
      "text/plain": [
       "<Figure size 360x360 with 2 Axes>"
      ]
     },
     "metadata": {
      "needs_background": "light"
     },
     "output_type": "display_data"
    },
    {
     "name": "stdout",
     "output_type": "stream",
     "text": [
      "Misclassifications by attack category:\n",
      "======================================\n"
     ]
    },
    {
     "data": {
      "text/html": [
       "<div>\n",
       "<style scoped>\n",
       "    .dataframe tbody tr th:only-of-type {\n",
       "        vertical-align: middle;\n",
       "    }\n",
       "\n",
       "    .dataframe tbody tr th {\n",
       "        vertical-align: top;\n",
       "    }\n",
       "\n",
       "    .dataframe thead th {\n",
       "        text-align: right;\n",
       "    }\n",
       "</style>\n",
       "<table border=\"1\" class=\"dataframe\">\n",
       "  <thead>\n",
       "    <tr style=\"text-align: right;\">\n",
       "      <th></th>\n",
       "      <th>misclassified</th>\n",
       "      <th>total</th>\n",
       "      <th>percent_misclassified</th>\n",
       "    </tr>\n",
       "  </thead>\n",
       "  <tbody>\n",
       "    <tr>\n",
       "      <th>Benign</th>\n",
       "      <td>116785</td>\n",
       "      <td>144285</td>\n",
       "      <td>0.809405</td>\n",
       "    </tr>\n",
       "    <tr>\n",
       "      <th>DoS attacks-GoldenEye</th>\n",
       "      <td>608</td>\n",
       "      <td>4151</td>\n",
       "      <td>0.146471</td>\n",
       "    </tr>\n",
       "    <tr>\n",
       "      <th>DoS attacks-Slowloris</th>\n",
       "      <td>44</td>\n",
       "      <td>1099</td>\n",
       "      <td>0.040036</td>\n",
       "    </tr>\n",
       "    <tr>\n",
       "      <th>DoS attacks-Hulk</th>\n",
       "      <td>135</td>\n",
       "      <td>46191</td>\n",
       "      <td>0.002923</td>\n",
       "    </tr>\n",
       "  </tbody>\n",
       "</table>\n",
       "</div>"
      ],
      "text/plain": [
       "                       misclassified   total  percent_misclassified\n",
       "Benign                        116785  144285               0.809405\n",
       "DoS attacks-GoldenEye            608    4151               0.146471\n",
       "DoS attacks-Slowloris             44    1099               0.040036\n",
       "DoS attacks-Hulk                 135   46191               0.002923"
      ]
     },
     "metadata": {},
     "output_type": "display_data"
    }
   ],
   "source": [
    "pred_val_nb = cls_nb.predict(X_eval)\n",
    "print_binary_performance(y_eval, y_eval.label_is_attack, pred_val_nb)"
   ]
  },
  {
   "cell_type": "code",
   "execution_count": 15,
   "metadata": {},
   "outputs": [
    {
     "data": {
      "image/png": "[encoded data removed]",
      "text/plain": [
       "<Figure size 576x360 with 1 Axes>"
      ]
     },
     "metadata": {
      "needs_background": "light"
     },
     "output_type": "display_data"
    },
    {
     "name": "stdout",
     "output_type": "stream",
     "text": [
      "Average PR Score 0.9969292011597349\n"
     ]
    }
   ],
   "source": [
    "## 4. Decission Tree\n",
    "from sklearn.tree import DecisionTreeClassifier\n",
    "\n",
    "cls_dt = DecisionTreeClassifier(max_depth=5,criterion=\"entropy\")\n",
    "cls_dt.fit(X_train, y_train.label_is_attack)\n",
    "\n",
    "pred_val_proba_dt = predict_proba_positive(cls_dt, X_eval)\n",
    "plot_pr_curve(y_eval.label_is_attack.values, pred_val_proba_dt)"
   ]
  },
  {
   "cell_type": "code",
   "execution_count": 16,
   "metadata": {},
   "outputs": [
    {
     "name": "stdout",
     "output_type": "stream",
     "text": [
      "Classification Report:\n",
      "======================\n",
      "              precision    recall  f1-score   support\n",
      "\n",
      "           0      1.000     0.998     0.999    144285\n",
      "           1      0.995     1.000     0.997     65430\n",
      "\n",
      "    accuracy                          0.998    209715\n",
      "   macro avg      0.997     0.999     0.998    209715\n",
      "weighted avg      0.998     0.998     0.998    209715\n",
      "\n",
      "Confusion Matrix:\n",
      "=================\n"
     ]
    },
    {
     "data": {
      "image/png": "[encoded data removed]",
      "text/plain": [
       "<Figure size 360x360 with 2 Axes>"
      ]
     },
     "metadata": {
      "needs_background": "light"
     },
     "output_type": "display_data"
    },
    {
     "name": "stdout",
     "output_type": "stream",
     "text": [
      "Misclassifications by attack category:\n",
      "======================================\n"
     ]
    },
    {
     "data": {
      "text/html": [
       "<div>\n",
       "<style scoped>\n",
       "    .dataframe tbody tr th:only-of-type {\n",
       "        vertical-align: middle;\n",
       "    }\n",
       "\n",
       "    .dataframe tbody tr th {\n",
       "        vertical-align: top;\n",
       "    }\n",
       "\n",
       "    .dataframe thead th {\n",
       "        text-align: right;\n",
       "    }\n",
       "</style>\n",
       "<table border=\"1\" class=\"dataframe\">\n",
       "  <thead>\n",
       "    <tr style=\"text-align: right;\">\n",
       "      <th></th>\n",
       "      <th>misclassified</th>\n",
       "      <th>total</th>\n",
       "      <th>percent_misclassified</th>\n",
       "    </tr>\n",
       "  </thead>\n",
       "  <tbody>\n",
       "    <tr>\n",
       "      <th>DoS attacks-Slowloris</th>\n",
       "      <td>8</td>\n",
       "      <td>1099</td>\n",
       "      <td>0.007279</td>\n",
       "    </tr>\n",
       "    <tr>\n",
       "      <th>Benign</th>\n",
       "      <td>342</td>\n",
       "      <td>144285</td>\n",
       "      <td>0.002370</td>\n",
       "    </tr>\n",
       "  </tbody>\n",
       "</table>\n",
       "</div>"
      ],
      "text/plain": [
       "                       misclassified   total  percent_misclassified\n",
       "DoS attacks-Slowloris              8    1099               0.007279\n",
       "Benign                           342  144285               0.002370"
      ]
     },
     "metadata": {},
     "output_type": "display_data"
    }
   ],
   "source": [
    "pred_val_dt = cls_dt.predict(X_eval)\n",
    "print_binary_performance(y_eval, y_eval.label_is_attack, pred_val_dt)"
   ]
  },
  {
   "cell_type": "code",
   "execution_count": 18,
   "metadata": {},
   "outputs": [
    {
     "data": {
      "image/png": "[encoded data removed]",
      "text/plain": [
       "<Figure size 576x360 with 1 Axes>"
      ]
     },
     "metadata": {
      "needs_background": "light"
     },
     "output_type": "display_data"
    },
    {
     "name": "stdout",
     "output_type": "stream",
     "text": [
      "Average PR Score 0.7568804482219424\n"
     ]
    }
   ],
   "source": [
    "## 5. MLP\n",
    "from sklearn.neural_network import MLPClassifier\n",
    "\n",
    "cls_mlp = MLPClassifier(hidden_layer_sizes=(13,13,13),max_iter=500)\n",
    "cls_mlp.fit(X_train, y_train.label_is_attack)\n",
    "\n",
    "pred_val_proba_mlp = predict_proba_positive(cls_mlp, X_eval)\n",
    "plot_pr_curve(y_eval.label_is_attack.values, pred_val_proba_mlp)"
   ]
  },
  {
   "cell_type": "code",
   "execution_count": 19,
   "metadata": {},
   "outputs": [
    {
     "name": "stdout",
     "output_type": "stream",
     "text": [
      "Classification Report:\n",
      "======================\n",
      "              precision    recall  f1-score   support\n",
      "\n",
      "           0      0.838     0.997     0.911    144285\n",
      "           1      0.990     0.573     0.726     65430\n",
      "\n",
      "    accuracy                          0.865    209715\n",
      "   macro avg      0.914     0.785     0.818    209715\n",
      "weighted avg      0.885     0.865     0.853    209715\n",
      "\n",
      "Confusion Matrix:\n",
      "=================\n"
     ]
    },
    {
     "data": {
      "image/png": "[encoded data removed]",
      "text/plain": [
       "<Figure size 360x360 with 2 Axes>"
      ]
     },
     "metadata": {
      "needs_background": "light"
     },
     "output_type": "display_data"
    },
    {
     "name": "stdout",
     "output_type": "stream",
     "text": [
      "Misclassifications by attack category:\n",
      "======================================\n"
     ]
    },
    {
     "data": {
      "text/html": [
       "<div>\n",
       "<style scoped>\n",
       "    .dataframe tbody tr th:only-of-type {\n",
       "        vertical-align: middle;\n",
       "    }\n",
       "\n",
       "    .dataframe tbody tr th {\n",
       "        vertical-align: top;\n",
       "    }\n",
       "\n",
       "    .dataframe thead th {\n",
       "        text-align: right;\n",
       "    }\n",
       "</style>\n",
       "<table border=\"1\" class=\"dataframe\">\n",
       "  <thead>\n",
       "    <tr style=\"text-align: right;\">\n",
       "      <th></th>\n",
       "      <th>misclassified</th>\n",
       "      <th>total</th>\n",
       "      <th>percent_misclassified</th>\n",
       "    </tr>\n",
       "  </thead>\n",
       "  <tbody>\n",
       "    <tr>\n",
       "      <th>DoS attacks-SlowHTTPTest</th>\n",
       "      <td>13989</td>\n",
       "      <td>13989</td>\n",
       "      <td>1.000000</td>\n",
       "    </tr>\n",
       "    <tr>\n",
       "      <th>DoS attacks-Slowloris</th>\n",
       "      <td>1099</td>\n",
       "      <td>1099</td>\n",
       "      <td>1.000000</td>\n",
       "    </tr>\n",
       "    <tr>\n",
       "      <th>DoS attacks-GoldenEye</th>\n",
       "      <td>4150</td>\n",
       "      <td>4151</td>\n",
       "      <td>0.999759</td>\n",
       "    </tr>\n",
       "    <tr>\n",
       "      <th>DoS attacks-Hulk</th>\n",
       "      <td>8684</td>\n",
       "      <td>46191</td>\n",
       "      <td>0.188002</td>\n",
       "    </tr>\n",
       "    <tr>\n",
       "      <th>Benign</th>\n",
       "      <td>368</td>\n",
       "      <td>144285</td>\n",
       "      <td>0.002551</td>\n",
       "    </tr>\n",
       "  </tbody>\n",
       "</table>\n",
       "</div>"
      ],
      "text/plain": [
       "                          misclassified   total  percent_misclassified\n",
       "DoS attacks-SlowHTTPTest          13989   13989               1.000000\n",
       "DoS attacks-Slowloris              1099    1099               1.000000\n",
       "DoS attacks-GoldenEye              4150    4151               0.999759\n",
       "DoS attacks-Hulk                   8684   46191               0.188002\n",
       "Benign                              368  144285               0.002551"
      ]
     },
     "metadata": {},
     "output_type": "display_data"
    }
   ],
   "source": [
    "pred_val_mlp = cls_mlp.predict(X_eval)\n",
    "print_binary_performance(y_eval, y_eval.label_is_attack, pred_val_mlp)"
   ]
  },
  {
   "cell_type": "code",
   "execution_count": null,
   "metadata": {},
   "outputs": [],
   "source": [
    "## 6. KNN\n",
    "from sklearn.neighbors import KNeighborsClassifier\n",
    "\n",
    "start_time = time()\n",
    "cls_knn = KNeighborsClassifier(3)"
   ]
  },
  {
   "cell_type": "code",
   "execution_count": null,
   "metadata": {},
   "outputs": [],
   "source": [
    "## 7. QDA\n",
    "from sklearn.discriminant_analysis import QuadraticDiscriminantAnalysis as QDA\n",
    "\n",
    "start_time = time()\n",
    "cls_qda = QDA()"
   ]
  },
  {
   "cell_type": "markdown",
   "metadata": {},
   "source": [
    "### algoritma lainnya misalnya Log regresion --> tapi algor ini belum ada di paper IDS manapun\n",
    "- Gozde Karatas (Knn, Random Forest, Gradient Boosting, Adaboost, Decision Tree, LDA)"
   ]
  },
  {
   "cell_type": "code",
   "execution_count": null,
   "metadata": {},
   "outputs": [],
   "source": [
    "## 3. Log Regression from scikit-learn with default value\n",
    "start_time = time()\n",
    "cls_lr = LogisticRegression(solver='saga', n_jobs=-1, verbose=2)\n",
    "cls_lr.fit(scaler.transform(X_train_oh), y_train.label_is_attack)\n",
    "end_time=time()\n",
    "total=end_time-start_time\n",
    "print_report('Train', cls_lr, scaler.transform(X_train_oh), y_train.label_is_attack, cls_lr.predict(scaler.transform(X_train_oh)))\n",
    "print_report('Eval', cls_lr, scaler.transform(X_eval_oh), y_eval.label_is_attack, cls_lr.predict(scaler.transform(X_eval_oh)), plot_pr=True)\n",
    "print (\"Time to fit Data Train\".format(hms_string(total)))\n",
    "print(hms_string(total))"
   ]
  },
  {
   "cell_type": "code",
   "execution_count": null,
   "metadata": {},
   "outputs": [],
   "source": [
    "## 5. Gradient Boosting form CatBoost --> opensource \n",
    "train_pool = Pool(X_train, y_train.label_is_attack, cat_features=['protocol'])\n",
    "eval_pool = Pool(X_eval, y_eval.label_is_attack, cat_features=['protocol'])\n",
    "test_pool = Pool(X_test, cat_features=['protocol'])"
   ]
  },
  {
   "cell_type": "code",
   "execution_count": null,
   "metadata": {},
   "outputs": [],
   "source": [
    "start_time = time()\n",
    "minority_class_weight = len(y_train[y_train.label_is_attack == 0]) / len(y_train[y_train.label_is_attack == 1])\n",
    "    \n",
    "cls_cb = CatBoostClassifier(loss_function='Logloss',\n",
    "                            eval_metric='Recall',                        \n",
    "                            class_weights=[1, minority_class_weight],\n",
    "                            task_type='GPU',\n",
    "                            verbose=True)\n",
    "\n",
    "cls_cb.fit(train_pool, eval_set=eval_pool)\n",
    "end_time=time()\n",
    "total=end_time-start_time"
   ]
  },
  {
   "cell_type": "code",
   "execution_count": null,
   "metadata": {},
   "outputs": [],
   "source": [
    "print_report('Train', cls_cb, train_pool, y_train.label_is_attack, cls_cb.predict(train_pool))\n",
    "print_report('Eval', cls_cb, eval_pool, y_eval.label_is_attack, cls_cb.predict(eval_pool), plot_pr=True)\n",
    "print (\"Time to fit Data Train\".format(hms_string(total)))\n",
    "print(hms_string(total))"
   ]
  },
  {
   "cell_type": "markdown",
   "metadata": {},
   "source": [
    "### 4.5 Model selection\n",
    "\n",
    "Comparing the models the following results are obtained:\n",
    "\n",
    "|Model|Recall|Precision|F1|Avg PR|Recall Attack|Precision Attack|\n",
    "|-----|---------|------|--|------|-------------|----------------|\n",
    "|Baseline|0.83|0.69|0.75|0.169|0.00|0.00|\n",
    "|Logistic Regression|0.88|0.86|0.87|0.422|0.49|0.68|\n",
    "|Random Forest|**0.99**|0.99|0.99|0.925|**0.95**|**0.96**|\n",
    "|Gradient Boost|**0.99**|0.99|0.99|0.933|**0.96**|**0.97**|\n",
    "|z|0.00|0.00|0.00|0|0|\n",
    "\n",
    "Gradient Boost performed best of all models and will be used as the final estimator."
   ]
  },
  {
   "cell_type": "code",
   "execution_count": null,
   "metadata": {},
   "outputs": [],
   "source": []
  }
 ],
 "metadata": {
  "kernelspec": {
   "display_name": "Python 3",
   "language": "python",
   "name": "python3"
  },
  "language_info": {
   "codemirror_mode": {
    "name": "ipython",
    "version": 3
   },
   "file_extension": ".py",
   "mimetype": "text/x-python",
   "name": "python",
   "nbconvert_exporter": "python",
   "pygments_lexer": "ipython3",
   "version": "3.7.6"
  }
 },
 "nbformat": 4,
 "nbformat_minor": 4
}
