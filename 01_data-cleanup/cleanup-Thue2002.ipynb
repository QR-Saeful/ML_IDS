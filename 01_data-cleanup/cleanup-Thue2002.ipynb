{
 "cells": [
  {
   "cell_type": "code",
   "execution_count": 1,
   "metadata": {},
   "outputs": [],
   "source": [
    "# set base path to the directory containing the csv files of the dataset\n",
    "dataset_base_path = r'/Users/kripik123/Documents/dataset/'\n",
    "\n",
    "#Removing invalid rows\n",
    "import numpy as np\n",
    "import pandas as pd\n",
    "import os\n",
    "\n",
    "file_path = os.path.join(dataset_base_path, 'Thuesday-20-02-2018_TrafficForML_CICFlowMeter.csv')\n",
    "\n",
    "df = pd.read_csv(file_path)"
   ]
  },
  {
   "cell_type": "code",
   "execution_count": 2,
   "metadata": {},
   "outputs": [
    {
     "name": "stdout",
     "output_type": "stream",
     "text": [
      "<class 'pandas.core.frame.DataFrame'>\n",
      "RangeIndex: 7948748 entries, 0 to 7948747\n",
      "Data columns (total 84 columns):\n",
      " #   Column             Dtype  \n",
      "---  ------             -----  \n",
      " 0   Flow ID            object \n",
      " 1   Src IP             object \n",
      " 2   Src Port           int64  \n",
      " 3   Dst IP             object \n",
      " 4   Dst Port           int64  \n",
      " 5   Protocol           int64  \n",
      " 6   Timestamp          object \n",
      " 7   Flow Duration      int64  \n",
      " 8   Tot Fwd Pkts       int64  \n",
      " 9   Tot Bwd Pkts       int64  \n",
      " 10  TotLen Fwd Pkts    float64\n",
      " 11  TotLen Bwd Pkts    float64\n",
      " 12  Fwd Pkt Len Max    float64\n",
      " 13  Fwd Pkt Len Min    float64\n",
      " 14  Fwd Pkt Len Mean   float64\n",
      " 15  Fwd Pkt Len Std    float64\n",
      " 16  Bwd Pkt Len Max    float64\n",
      " 17  Bwd Pkt Len Min    float64\n",
      " 18  Bwd Pkt Len Mean   float64\n",
      " 19  Bwd Pkt Len Std    float64\n",
      " 20  Flow Byts/s        float64\n",
      " 21  Flow Pkts/s        float64\n",
      " 22  Flow IAT Mean      float64\n",
      " 23  Flow IAT Std       float64\n",
      " 24  Flow IAT Max       float64\n",
      " 25  Flow IAT Min       float64\n",
      " 26  Fwd IAT Tot        float64\n",
      " 27  Fwd IAT Mean       float64\n",
      " 28  Fwd IAT Std        float64\n",
      " 29  Fwd IAT Max        float64\n",
      " 30  Fwd IAT Min        float64\n",
      " 31  Bwd IAT Tot        float64\n",
      " 32  Bwd IAT Mean       float64\n",
      " 33  Bwd IAT Std        float64\n",
      " 34  Bwd IAT Max        float64\n",
      " 35  Bwd IAT Min        float64\n",
      " 36  Fwd PSH Flags      int64  \n",
      " 37  Bwd PSH Flags      int64  \n",
      " 38  Fwd URG Flags      int64  \n",
      " 39  Bwd URG Flags      int64  \n",
      " 40  Fwd Header Len     int64  \n",
      " 41  Bwd Header Len     int64  \n",
      " 42  Fwd Pkts/s         float64\n",
      " 43  Bwd Pkts/s         float64\n",
      " 44  Pkt Len Min        float64\n",
      " 45  Pkt Len Max        float64\n",
      " 46  Pkt Len Mean       float64\n",
      " 47  Pkt Len Std        float64\n",
      " 48  Pkt Len Var        float64\n",
      " 49  FIN Flag Cnt       int64  \n",
      " 50  SYN Flag Cnt       int64  \n",
      " 51  RST Flag Cnt       int64  \n",
      " 52  PSH Flag Cnt       int64  \n",
      " 53  ACK Flag Cnt       int64  \n",
      " 54  URG Flag Cnt       int64  \n",
      " 55  CWE Flag Count     int64  \n",
      " 56  ECE Flag Cnt       int64  \n",
      " 57  Down/Up Ratio      float64\n",
      " 58  Pkt Size Avg       float64\n",
      " 59  Fwd Seg Size Avg   float64\n",
      " 60  Bwd Seg Size Avg   float64\n",
      " 61  Fwd Byts/b Avg     int64  \n",
      " 62  Fwd Pkts/b Avg     int64  \n",
      " 63  Fwd Blk Rate Avg   int64  \n",
      " 64  Bwd Byts/b Avg     int64  \n",
      " 65  Bwd Pkts/b Avg     int64  \n",
      " 66  Bwd Blk Rate Avg   int64  \n",
      " 67  Subflow Fwd Pkts   int64  \n",
      " 68  Subflow Fwd Byts   int64  \n",
      " 69  Subflow Bwd Pkts   int64  \n",
      " 70  Subflow Bwd Byts   int64  \n",
      " 71  Init Fwd Win Byts  int64  \n",
      " 72  Init Bwd Win Byts  int64  \n",
      " 73  Fwd Act Data Pkts  int64  \n",
      " 74  Fwd Seg Size Min   int64  \n",
      " 75  Active Mean        float64\n",
      " 76  Active Std         float64\n",
      " 77  Active Max         float64\n",
      " 78  Active Min         float64\n",
      " 79  Idle Mean          float64\n",
      " 80  Idle Std           float64\n",
      " 81  Idle Max           float64\n",
      " 82  Idle Min           float64\n",
      " 83  Label              object \n",
      "dtypes: float64(45), int64(34), object(5)\n",
      "memory usage: 5.0+ GB\n"
     ]
    }
   ],
   "source": [
    "df.info()"
   ]
  },
  {
   "cell_type": "code",
   "execution_count": 3,
   "metadata": {},
   "outputs": [
    {
     "data": {
      "text/plain": [
       "6     5295644\n",
       "17    2508972\n",
       "0      144132\n",
       "Name: Protocol, dtype: int64"
      ]
     },
     "execution_count": 3,
     "metadata": {},
     "output_type": "execute_result"
    }
   ],
   "source": [
    "df['Protocol'].value_counts()"
   ]
  },
  {
   "cell_type": "code",
   "execution_count": 4,
   "metadata": {},
   "outputs": [
    {
     "data": {
      "text/plain": [
       "0    7902797\n",
       "1      45951\n",
       "Name: FIN Flag Cnt, dtype: int64"
      ]
     },
     "execution_count": 4,
     "metadata": {},
     "output_type": "execute_result"
    }
   ],
   "source": [
    "df['FIN Flag Cnt'].value_counts()"
   ]
  },
  {
   "cell_type": "code",
   "execution_count": 4,
   "metadata": {},
   "outputs": [],
   "source": [
    "##df = df[~df['Dst Port'].str.contains('Dst Port', na=False)]"
   ]
  },
  {
   "cell_type": "code",
   "execution_count": 5,
   "metadata": {},
   "outputs": [],
   "source": [
    "import re\n",
    "\n",
    "tmp_path = os.path.join(dataset_base_path, 'tmp')\n",
    "\n",
    "if not os.path.exists(tmp_path):\n",
    "    os.mkdir(tmp_path)\n",
    "\n",
    "column_name_regex = re.compile(r\"\\W\", re.IGNORECASE)\n",
    "df.columns = [column_name_regex.sub('_', c.lower()) for c in df.columns]\n",
    "\n",
    "tmp_file_path = os.path.join(tmp_path, 'Thuesday-20-02-2018_TrafficForML_CICFlowMeter_duplicate_headers_removed.csv')\n",
    "\n",
    "df.to_csv(tmp_file_path)"
   ]
  },
  {
   "cell_type": "code",
   "execution_count": 6,
   "metadata": {},
   "outputs": [],
   "source": [
    "types = {\n",
    "    'dst_port': 'uint32',\n",
    "    'protocol': 'uint8',\n",
    "    'timestamp': 'object',\n",
    "    'flow_duration': 'int64',\n",
    "    'tot_fwd_pkts': 'uint32',\n",
    "    'tot_bwd_pkts': 'uint32',\n",
    "    'totlen_fwd_pkts': 'uint32',\n",
    "    'totlen_bwd_pkts': 'uint32',\n",
    "    'fwd_pkt_len_max': 'uint16',\n",
    "    'fwd_pkt_len_min': 'uint16',\n",
    "    'fwd_pkt_len_mean': 'float32',\n",
    "    'fwd_pkt_len_std': 'float32',\n",
    "    'bwd_pkt_len_max': 'uint16',\n",
    "    'bwd_pkt_len_min': 'uint16',\n",
    "    'bwd_pkt_len_mean': 'float32',\n",
    "    'bwd_pkt_len_std': 'float32',\n",
    "    'flow_byts_s': 'float64',\n",
    "    'flow_pkts_s': 'float64',\n",
    "    'flow_iat_mean': 'float32',\n",
    "    'flow_iat_std': 'float32',\n",
    "    'flow_iat_max': 'int64',\n",
    "    'flow_iat_min': 'int64',\n",
    "    'fwd_iat_tot': 'int64',\n",
    "    'fwd_iat_mean': 'float32',\n",
    "    'fwd_iat_std': 'float32',\n",
    "    'fwd_iat_max': 'int64',\n",
    "    'fwd_iat_min': 'int64',\n",
    "    'bwd_iat_tot': 'uint32',\n",
    "    'bwd_iat_mean': 'float32',\n",
    "    'bwd_iat_std': 'float32',\n",
    "    'bwd_iat_max': 'uint32',\n",
    "    'bwd_iat_min': 'uint32',\n",
    "    'fwd_psh_flags': 'uint8',\n",
    "    'bwd_psh_flags': 'uint8',\n",
    "    'fwd_urg_flags': 'uint8',\n",
    "    'bwd_urg_flags': 'uint8',\n",
    "    'fwd_header_len': 'uint32',\n",
    "    'bwd_header_len': 'uint32',\n",
    "    'flow_byts_s': 'float32',\n",
    "    'bwd_pkts_s': 'float32',\n",
    "    'pkt_len_min': 'uint16',\n",
    "    'pkt_len_max': 'uint16',\n",
    "    'pkt_len_mean': 'float32',\n",
    "    'pkt_len_std': 'float32',\n",
    "    'pkt_len_var': 'float32',\n",
    "    'fin_flag_cnt': 'uint8',\n",
    "    'syn_flag_cnt': 'uint8',\n",
    "    'rst_flag_cnt': 'uint8',\n",
    "    'psh_flag_cnt': 'uint8',\n",
    "    'ack_flag_cnt': 'uint8',\n",
    "    'urg_flag_cnt': 'uint8',\n",
    "    'cwe_flag_count': 'uint8',\n",
    "    'ece_flag_cnt': 'uint8',\n",
    "    'down_up_ratio': 'uint16',\n",
    "    'pkt_size_avg': 'float32',\n",
    "    'fwd_seg_size_avg': 'float32',\n",
    "    'bwd_seg_size_avg': 'float32',\n",
    "    'fwd_byts_b_avg': 'uint8',\n",
    "    'fwd_pkts_b_avg': 'uint8',\n",
    "    'fwd_blk_rate_avg': 'uint8',\n",
    "    'bwd_byts_b_avg': 'uint8',\n",
    "    'bwd_pkts_b_avg': 'uint8',\n",
    "    'bwd_blk_rate_avg': 'uint8',\n",
    "    'subflow_fwd_pkts': 'uint32',\n",
    "    'subflow_fwd_byts': 'uint32',\n",
    "    'subflow_bwd_pkts': 'uint32',\n",
    "    'subflow_bwd_byts': 'uint32',\n",
    "    'init_fwd_win_byts': 'int32',\n",
    "    'init_bwd_win_byts': 'int32',\n",
    "    'fwd_act_data_pkts': 'uint32',\n",
    "    'fwd_seg_size_min': 'uint8',\n",
    "    'active_mean': 'float32',\n",
    "    'active_std': 'float32',\n",
    "    'active_max': 'uint32',\n",
    "    'active_min': 'uint32',\n",
    "    'idle_mean': 'float32',\n",
    "    'idle_std': 'float32',\n",
    "    'idle_max': 'uint64',\n",
    "    'idle_min': 'uint64',\n",
    "    'label': 'category'\n",
    "}"
   ]
  },
  {
   "cell_type": "code",
   "execution_count": 7,
   "metadata": {},
   "outputs": [],
   "source": [
    "df = pd.read_csv(tmp_file_path, dtype=types)"
   ]
  },
  {
   "cell_type": "code",
   "execution_count": 8,
   "metadata": {},
   "outputs": [],
   "source": [
    "df = pd.read_csv(tmp_file_path)\n",
    "\n",
    "df_infinity_fixed = df.replace('Infinity', 'inf')\n",
    "\n",
    "tmp_file_path_inf = os.path.join(tmp_path, 'Thuesday-20-02-2018_TrafficForML_CICFlowMeter_infinity_fixed.csv')\n",
    "\n",
    "df_infinity_fixed.to_csv(tmp_file_path_inf)"
   ]
  },
  {
   "cell_type": "code",
   "execution_count": 9,
   "metadata": {},
   "outputs": [],
   "source": [
    "df = pd.read_csv(tmp_file_path_inf, dtype=types)"
   ]
  },
  {
   "cell_type": "code",
   "execution_count": 10,
   "metadata": {},
   "outputs": [
    {
     "name": "stdout",
     "output_type": "stream",
     "text": [
      "<class 'pandas.core.frame.DataFrame'>\n",
      "RangeIndex: 7948748 entries, 0 to 7948747\n",
      "Data columns (total 86 columns):\n",
      " #   Column             Dtype   \n",
      "---  ------             -----   \n",
      " 0   Unnamed: 0         int64   \n",
      " 1   Unnamed: 0.1       int64   \n",
      " 2   flow_id            object  \n",
      " 3   src_ip             object  \n",
      " 4   src_port           int64   \n",
      " 5   dst_ip             object  \n",
      " 6   dst_port           uint32  \n",
      " 7   protocol           uint8   \n",
      " 8   timestamp          object  \n",
      " 9   flow_duration      int64   \n",
      " 10  tot_fwd_pkts       uint32  \n",
      " 11  tot_bwd_pkts       uint32  \n",
      " 12  totlen_fwd_pkts    uint32  \n",
      " 13  totlen_bwd_pkts    uint32  \n",
      " 14  fwd_pkt_len_max    uint16  \n",
      " 15  fwd_pkt_len_min    uint16  \n",
      " 16  fwd_pkt_len_mean   float32 \n",
      " 17  fwd_pkt_len_std    float32 \n",
      " 18  bwd_pkt_len_max    uint16  \n",
      " 19  bwd_pkt_len_min    uint16  \n",
      " 20  bwd_pkt_len_mean   float32 \n",
      " 21  bwd_pkt_len_std    float32 \n",
      " 22  flow_byts_s        float32 \n",
      " 23  flow_pkts_s        float64 \n",
      " 24  flow_iat_mean      float32 \n",
      " 25  flow_iat_std       float32 \n",
      " 26  flow_iat_max       int64   \n",
      " 27  flow_iat_min       int64   \n",
      " 28  fwd_iat_tot        int64   \n",
      " 29  fwd_iat_mean       float32 \n",
      " 30  fwd_iat_std        float32 \n",
      " 31  fwd_iat_max        int64   \n",
      " 32  fwd_iat_min        int64   \n",
      " 33  bwd_iat_tot        uint32  \n",
      " 34  bwd_iat_mean       float32 \n",
      " 35  bwd_iat_std        float32 \n",
      " 36  bwd_iat_max        uint32  \n",
      " 37  bwd_iat_min        uint32  \n",
      " 38  fwd_psh_flags      uint8   \n",
      " 39  bwd_psh_flags      uint8   \n",
      " 40  fwd_urg_flags      uint8   \n",
      " 41  bwd_urg_flags      uint8   \n",
      " 42  fwd_header_len     uint32  \n",
      " 43  bwd_header_len     uint32  \n",
      " 44  fwd_pkts_s         float64 \n",
      " 45  bwd_pkts_s         float32 \n",
      " 46  pkt_len_min        uint16  \n",
      " 47  pkt_len_max        uint16  \n",
      " 48  pkt_len_mean       float32 \n",
      " 49  pkt_len_std        float32 \n",
      " 50  pkt_len_var        float32 \n",
      " 51  fin_flag_cnt       uint8   \n",
      " 52  syn_flag_cnt       uint8   \n",
      " 53  rst_flag_cnt       uint8   \n",
      " 54  psh_flag_cnt       uint8   \n",
      " 55  ack_flag_cnt       uint8   \n",
      " 56  urg_flag_cnt       uint8   \n",
      " 57  cwe_flag_count     uint8   \n",
      " 58  ece_flag_cnt       uint8   \n",
      " 59  down_up_ratio      uint16  \n",
      " 60  pkt_size_avg       float32 \n",
      " 61  fwd_seg_size_avg   float32 \n",
      " 62  bwd_seg_size_avg   float32 \n",
      " 63  fwd_byts_b_avg     uint8   \n",
      " 64  fwd_pkts_b_avg     uint8   \n",
      " 65  fwd_blk_rate_avg   uint8   \n",
      " 66  bwd_byts_b_avg     uint8   \n",
      " 67  bwd_pkts_b_avg     uint8   \n",
      " 68  bwd_blk_rate_avg   uint8   \n",
      " 69  subflow_fwd_pkts   uint32  \n",
      " 70  subflow_fwd_byts   uint32  \n",
      " 71  subflow_bwd_pkts   uint32  \n",
      " 72  subflow_bwd_byts   uint32  \n",
      " 73  init_fwd_win_byts  int32   \n",
      " 74  init_bwd_win_byts  int32   \n",
      " 75  fwd_act_data_pkts  uint32  \n",
      " 76  fwd_seg_size_min   uint8   \n",
      " 77  active_mean        float32 \n",
      " 78  active_std         float32 \n",
      " 79  active_max         uint32  \n",
      " 80  active_min         uint32  \n",
      " 81  idle_mean          float32 \n",
      " 82  idle_std           float32 \n",
      " 83  idle_max           uint64  \n",
      " 84  idle_min           uint64  \n",
      " 85  label              category\n",
      "dtypes: category(1), float32(22), float64(2), int32(2), int64(9), object(4), uint16(7), uint32(17), uint64(2), uint8(20)\n",
      "memory usage: 2.5+ GB\n"
     ]
    }
   ],
   "source": [
    "df.info()"
   ]
  },
  {
   "cell_type": "code",
   "execution_count": 11,
   "metadata": {},
   "outputs": [
    {
     "name": "stdout",
     "output_type": "stream",
     "text": [
      "Infinity values of flow_byts_s: 22686\n",
      "Null values of flow_byts_s: 36767\n"
     ]
    }
   ],
   "source": [
    "print(f\"Infinity values of flow_byts_s: {df[df['flow_byts_s'] == np.inf]['dst_port'].count()}\")\n",
    "print(f\"Null values of flow_byts_s: {df[df['flow_byts_s'].isnull()]['dst_port'].count()}\")"
   ]
  },
  {
   "cell_type": "code",
   "execution_count": null,
   "metadata": {},
   "outputs": [],
   "source": []
  }
 ],
 "metadata": {
  "kernelspec": {
   "display_name": "Python 3",
   "language": "python",
   "name": "python3"
  },
  "language_info": {
   "codemirror_mode": {
    "name": "ipython",
    "version": 3
   },
   "file_extension": ".py",
   "mimetype": "text/x-python",
   "name": "python",
   "nbconvert_exporter": "python",
   "pygments_lexer": "ipython3",
   "version": "3.7.7"
  }
 },
 "nbformat": 4,
 "nbformat_minor": 4
}
