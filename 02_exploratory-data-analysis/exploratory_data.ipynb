{
 "cells": [
  {
   "cell_type": "code",
   "execution_count": 1,
   "metadata": {},
   "outputs": [],
   "source": [
    "## 1. prepare the dataset after cleaning \n",
    "\n",
    "import numpy as np\n",
    "import pandas as pd\n",
    "import matplotlib.pyplot as plt\n",
    "import seaborn as sns\n",
    "import glob\n",
    "import os\n",
    "from scipy import stats\n",
    "from scipy.stats import ks_2samp\n",
    "\n",
    "%matplotlib inline\n",
    "\n",
    "dataset_base_path = r'/Users/kripik123/Documents/dataset/processedx/'\n",
    "\n",
    "types = {\n",
    "    'dst_port': 'uint32',\n",
    "    'protocol': 'uint8',\n",
    "    'timestamp': 'object',\n",
    "    'flow_duration': 'int64',\n",
    "    'tot_fwd_pkts': 'uint32',\n",
    "    'tot_bwd_pkts': 'uint32',\n",
    "    'totlen_fwd_pkts': 'uint32',\n",
    "    'totlen_bwd_pkts': 'uint32',\n",
    "    'fwd_pkt_len_max': 'uint16',\n",
    "    'fwd_pkt_len_min': 'uint16',\n",
    "    'fwd_pkt_len_mean': 'float32',\n",
    "    'fwd_pkt_len_std': 'float32',\n",
    "    'bwd_pkt_len_max': 'uint16',\n",
    "    'bwd_pkt_len_min': 'uint16',\n",
    "    'bwd_pkt_len_mean': 'float32',\n",
    "    'bwd_pkt_len_std': 'float32',\n",
    "    'flow_byts_s': 'float64',\n",
    "    'flow_pkts_s': 'float64',\n",
    "    'flow_iat_mean': 'float32',\n",
    "    'flow_iat_std': 'float32',\n",
    "    'flow_iat_max': 'int64',\n",
    "    'flow_iat_min': 'int64',\n",
    "    'fwd_iat_tot': 'int64',\n",
    "    'fwd_iat_mean': 'float32',\n",
    "    'fwd_iat_std': 'float32',\n",
    "    'fwd_iat_max': 'int64',\n",
    "    'fwd_iat_min': 'int64',\n",
    "    'bwd_iat_tot': 'uint32',\n",
    "    'bwd_iat_mean': 'float32',\n",
    "    'bwd_iat_std': 'float32',\n",
    "    'bwd_iat_max': 'uint32',\n",
    "    'bwd_iat_min': 'uint32',\n",
    "    'fwd_psh_flags': 'uint8',\n",
    "    'bwd_psh_flags': 'uint8',\n",
    "    'fwd_urg_flags': 'uint8',\n",
    "    'bwd_urg_flags': 'uint8',\n",
    "    'fwd_header_len': 'uint32',\n",
    "    'bwd_header_len': 'uint32',\n",
    "    'fwd_pkts_s': 'float32',\n",
    "    'bwd_pkts_s': 'float32',\n",
    "    'pkt_len_min': 'uint16',\n",
    "    'pkt_len_max': 'uint16',\n",
    "    'pkt_len_mean': 'float32',\n",
    "    'pkt_len_std': 'float32',\n",
    "    'pkt_len_var': 'float32',\n",
    "    'fin_flag_cnt': 'uint8',\n",
    "    'syn_flag_cnt': 'uint8',\n",
    "    'rst_flag_cnt': 'uint8',\n",
    "    'psh_flag_cnt': 'uint8',\n",
    "    'ack_flag_cnt': 'uint8',\n",
    "    'urg_flag_cnt': 'uint8',\n",
    "    'cwe_flag_count': 'uint8',\n",
    "    'ece_flag_cnt': 'uint8',\n",
    "    'down_up_ratio': 'uint16',\n",
    "    'pkt_size_avg': 'float32',\n",
    "    'fwd_seg_size_avg': 'float32',\n",
    "    'bwd_seg_size_avg': 'float32',\n",
    "    'fwd_byts_b_avg': 'uint8',\n",
    "    'fwd_pkts_b_avg': 'uint8',\n",
    "    'fwd_blk_rate_avg': 'uint8',\n",
    "    'bwd_byts_b_avg': 'uint8',\n",
    "    'bwd_pkts_b_avg': 'uint8',\n",
    "    'bwd_blk_rate_avg': 'uint8',\n",
    "    'subflow_fwd_pkts': 'uint32',\n",
    "    'subflow_fwd_byts': 'uint32',\n",
    "    'subflow_bwd_pkts': 'uint32',\n",
    "    'subflow_bwd_byts': 'uint32',\n",
    "    'init_fwd_win_byts': 'int32',\n",
    "    'init_bwd_win_byts': 'int32',\n",
    "    'fwd_act_data_pkts': 'uint32',\n",
    "    'fwd_seg_size_min': 'uint8',\n",
    "    'active_mean': 'float32',\n",
    "    'active_std': 'float32',\n",
    "    'active_max': 'uint32',\n",
    "    'active_min': 'uint32',\n",
    "    'idle_mean': 'float32',\n",
    "    'idle_std': 'float32',\n",
    "    'idle_max': 'uint64',\n",
    "    'idle_min': 'uint64',\n",
    "    'label': 'category'\n",
    "}"
   ]
  },
  {
   "cell_type": "code",
   "execution_count": 2,
   "metadata": {},
   "outputs": [],
   "source": [
    "### 2. gabung all csv files\n",
    "\n",
    "csv_files = glob.glob(os.path.join(dataset_base_path, '*.csv'))\n",
    "\n",
    "df = pd.concat((pd.read_csv(f, dtype=types) for f in csv_files))"
   ]
  },
  {
   "cell_type": "code",
   "execution_count": 7,
   "metadata": {},
   "outputs": [
    {
     "name": "stdout",
     "output_type": "stream",
     "text": [
      "<class 'pandas.core.frame.DataFrame'>\n",
      "Int64Index: 16232943 entries, 0 to 1048574\n",
      "Data columns (total 80 columns):\n",
      " #   Column             Dtype  \n",
      "---  ------             -----  \n",
      " 0   dst_port           uint32 \n",
      " 1   protocol           uint8  \n",
      " 2   timestamp          object \n",
      " 3   flow_duration      int64  \n",
      " 4   tot_fwd_pkts       uint32 \n",
      " 5   tot_bwd_pkts       uint32 \n",
      " 6   totlen_fwd_pkts    uint32 \n",
      " 7   totlen_bwd_pkts    uint32 \n",
      " 8   fwd_pkt_len_max    uint16 \n",
      " 9   fwd_pkt_len_min    uint16 \n",
      " 10  fwd_pkt_len_mean   float32\n",
      " 11  fwd_pkt_len_std    float32\n",
      " 12  bwd_pkt_len_max    uint16 \n",
      " 13  bwd_pkt_len_min    uint16 \n",
      " 14  bwd_pkt_len_mean   float32\n",
      " 15  bwd_pkt_len_std    float32\n",
      " 16  flow_byts_s        float64\n",
      " 17  flow_pkts_s        float64\n",
      " 18  flow_iat_mean      float32\n",
      " 19  flow_iat_std       float32\n",
      " 20  flow_iat_max       int64  \n",
      " 21  flow_iat_min       int64  \n",
      " 22  fwd_iat_tot        int64  \n",
      " 23  fwd_iat_mean       float32\n",
      " 24  fwd_iat_std        float32\n",
      " 25  fwd_iat_max        int64  \n",
      " 26  fwd_iat_min        int64  \n",
      " 27  bwd_iat_tot        uint32 \n",
      " 28  bwd_iat_mean       float32\n",
      " 29  bwd_iat_std        float32\n",
      " 30  bwd_iat_max        uint32 \n",
      " 31  bwd_iat_min        uint32 \n",
      " 32  fwd_psh_flags      uint8  \n",
      " 33  bwd_psh_flags      uint8  \n",
      " 34  fwd_urg_flags      uint8  \n",
      " 35  bwd_urg_flags      uint8  \n",
      " 36  fwd_header_len     uint32 \n",
      " 37  bwd_header_len     uint32 \n",
      " 38  fwd_pkts_s         float32\n",
      " 39  bwd_pkts_s         float32\n",
      " 40  pkt_len_min        uint16 \n",
      " 41  pkt_len_max        uint16 \n",
      " 42  pkt_len_mean       float32\n",
      " 43  pkt_len_std        float32\n",
      " 44  pkt_len_var        float32\n",
      " 45  fin_flag_cnt       uint8  \n",
      " 46  syn_flag_cnt       uint8  \n",
      " 47  rst_flag_cnt       uint8  \n",
      " 48  psh_flag_cnt       uint8  \n",
      " 49  ack_flag_cnt       uint8  \n",
      " 50  urg_flag_cnt       uint8  \n",
      " 51  cwe_flag_count     uint8  \n",
      " 52  ece_flag_cnt       uint8  \n",
      " 53  down_up_ratio      uint16 \n",
      " 54  pkt_size_avg       float32\n",
      " 55  fwd_seg_size_avg   float32\n",
      " 56  bwd_seg_size_avg   float32\n",
      " 57  fwd_byts_b_avg     uint8  \n",
      " 58  fwd_pkts_b_avg     uint8  \n",
      " 59  fwd_blk_rate_avg   uint8  \n",
      " 60  bwd_byts_b_avg     uint8  \n",
      " 61  bwd_pkts_b_avg     uint8  \n",
      " 62  bwd_blk_rate_avg   uint8  \n",
      " 63  subflow_fwd_pkts   uint32 \n",
      " 64  subflow_fwd_byts   uint32 \n",
      " 65  subflow_bwd_pkts   uint32 \n",
      " 66  subflow_bwd_byts   uint32 \n",
      " 67  init_fwd_win_byts  int32  \n",
      " 68  init_bwd_win_byts  int32  \n",
      " 69  fwd_act_data_pkts  uint32 \n",
      " 70  fwd_seg_size_min   uint8  \n",
      " 71  active_mean        float32\n",
      " 72  active_std         float32\n",
      " 73  active_max         uint32 \n",
      " 74  active_min         uint32 \n",
      " 75  idle_mean          float32\n",
      " 76  idle_std           float32\n",
      " 77  idle_max           uint64 \n",
      " 78  idle_min           uint64 \n",
      " 79  label              object \n",
      "dtypes: float32(22), float64(2), int32(2), int64(6), object(2), uint16(7), uint32(17), uint64(2), uint8(20)\n",
      "memory usage: 4.6+ GB\n"
     ]
    }
   ],
   "source": [
    "df.info()"
   ]
  },
  {
   "cell_type": "code",
   "execution_count": 3,
   "metadata": {},
   "outputs": [
    {
     "name": "stdout",
     "output_type": "stream",
     "text": [
      "Columns containing infinity values ['flow_byts_s', 'flow_pkts_s']\n"
     ]
    }
   ],
   "source": [
    "### 3. cari kolom yang tidak ada nilainya/infinity \n",
    "inf_columns = [c for c in df.columns if df[df[c] == np.inf][c].count() > 0]\n",
    "\n",
    "print(f'Columns containing infinity values {inf_columns}')"
   ]
  },
  {
   "cell_type": "code",
   "execution_count": 5,
   "metadata": {},
   "outputs": [],
   "source": [
    "## ganti kolom yang tidak ada nilainya dengan nan\n",
    "for col in inf_columns:\n",
    "    df[col].replace([np.inf, -np.inf], np.nan, inplace=True)\n",
    "    mean = df[col].mean()\n",
    "    df[col].fillna(mean, inplace=True)"
   ]
  },
  {
   "cell_type": "code",
   "execution_count": 6,
   "metadata": {},
   "outputs": [
    {
     "name": "stdout",
     "output_type": "stream",
     "text": [
      "Columns containing infinity values []\n"
     ]
    }
   ],
   "source": [
    "### 3. cek apakah masih ada kolo yang tidak ada nilainya\n",
    "inf_columns = [c for c in df.columns if df[df[c] == np.inf][c].count() > 0]\n",
    "\n",
    "print(f'Columns containing infinity values {inf_columns}')"
   ]
  },
  {
   "cell_type": "markdown",
   "metadata": {},
   "source": [
    "## Label Creation"
   ]
  },
  {
   "cell_type": "code",
   "execution_count": 8,
   "metadata": {},
   "outputs": [],
   "source": [
    "##To analyze the dataset in terms of binary classification (benign/attack) and multi-classification (benign/attack-type) addtional label columns are created:\n",
    "\n",
    "## 1. label_is_attack specifies if a network flow represents a benign or an malicious flow.\n",
    "## 2. label_is_attack_[attack_type] specifies if a network flow represents a certain type of attack.\n",
    "\n",
    "df['label'] = df.label.astype('category')\n",
    "df['label_code'] = df['label'].cat.codes\n",
    "df['label_is_attack'] = df.label.apply(lambda x: 0 if x == 'Benign' else 1)\n",
    "\n",
    "attack_types = [a for a in df.label.value_counts().index.tolist() if a != 'Benign']\n",
    "\n",
    "for a in attack_types:\n",
    "    l = 'label_is_attack_' + a.replace('-', ' ').replace(' ', '_').lower()\n",
    "    df[l] = df.label.apply(lambda x: 1 if x == a else 0)"
   ]
  },
  {
   "cell_type": "code",
   "execution_count": 9,
   "metadata": {},
   "outputs": [
    {
     "name": "stdout",
     "output_type": "stream",
     "text": [
      "<class 'pandas.core.frame.DataFrame'>\n",
      "Int64Index: 16232943 entries, 0 to 1048574\n",
      "Data columns (total 96 columns):\n",
      " #   Column                                    Non-Null Count     Dtype   \n",
      "---  ------                                    --------------     -----   \n",
      " 0   dst_port                                  16232943 non-null  uint32  \n",
      " 1   protocol                                  16232943 non-null  uint8   \n",
      " 2   timestamp                                 16232943 non-null  object  \n",
      " 3   flow_duration                             16232943 non-null  int64   \n",
      " 4   tot_fwd_pkts                              16232943 non-null  uint32  \n",
      " 5   tot_bwd_pkts                              16232943 non-null  uint32  \n",
      " 6   totlen_fwd_pkts                           16232943 non-null  uint32  \n",
      " 7   totlen_bwd_pkts                           16232943 non-null  uint32  \n",
      " 8   fwd_pkt_len_max                           16232943 non-null  uint16  \n",
      " 9   fwd_pkt_len_min                           16232943 non-null  uint16  \n",
      " 10  fwd_pkt_len_mean                          16232943 non-null  float32 \n",
      " 11  fwd_pkt_len_std                           16232943 non-null  float32 \n",
      " 12  bwd_pkt_len_max                           16232943 non-null  uint16  \n",
      " 13  bwd_pkt_len_min                           16232943 non-null  uint16  \n",
      " 14  bwd_pkt_len_mean                          16232943 non-null  float32 \n",
      " 15  bwd_pkt_len_std                           16232943 non-null  float32 \n",
      " 16  flow_byts_s                               16232943 non-null  float64 \n",
      " 17  flow_pkts_s                               16232943 non-null  float64 \n",
      " 18  flow_iat_mean                             16232943 non-null  float32 \n",
      " 19  flow_iat_std                              16232943 non-null  float32 \n",
      " 20  flow_iat_max                              16232943 non-null  int64   \n",
      " 21  flow_iat_min                              16232943 non-null  int64   \n",
      " 22  fwd_iat_tot                               16232943 non-null  int64   \n",
      " 23  fwd_iat_mean                              16232943 non-null  float32 \n",
      " 24  fwd_iat_std                               16232943 non-null  float32 \n",
      " 25  fwd_iat_max                               16232943 non-null  int64   \n",
      " 26  fwd_iat_min                               16232943 non-null  int64   \n",
      " 27  bwd_iat_tot                               16232943 non-null  uint32  \n",
      " 28  bwd_iat_mean                              16232943 non-null  float32 \n",
      " 29  bwd_iat_std                               16232943 non-null  float32 \n",
      " 30  bwd_iat_max                               16232943 non-null  uint32  \n",
      " 31  bwd_iat_min                               16232943 non-null  uint32  \n",
      " 32  fwd_psh_flags                             16232943 non-null  uint8   \n",
      " 33  bwd_psh_flags                             16232943 non-null  uint8   \n",
      " 34  fwd_urg_flags                             16232943 non-null  uint8   \n",
      " 35  bwd_urg_flags                             16232943 non-null  uint8   \n",
      " 36  fwd_header_len                            16232943 non-null  uint32  \n",
      " 37  bwd_header_len                            16232943 non-null  uint32  \n",
      " 38  fwd_pkts_s                                16232943 non-null  float32 \n",
      " 39  bwd_pkts_s                                16232943 non-null  float32 \n",
      " 40  pkt_len_min                               16232943 non-null  uint16  \n",
      " 41  pkt_len_max                               16232943 non-null  uint16  \n",
      " 42  pkt_len_mean                              16232943 non-null  float32 \n",
      " 43  pkt_len_std                               16232943 non-null  float32 \n",
      " 44  pkt_len_var                               16232943 non-null  float32 \n",
      " 45  fin_flag_cnt                              16232943 non-null  uint8   \n",
      " 46  syn_flag_cnt                              16232943 non-null  uint8   \n",
      " 47  rst_flag_cnt                              16232943 non-null  uint8   \n",
      " 48  psh_flag_cnt                              16232943 non-null  uint8   \n",
      " 49  ack_flag_cnt                              16232943 non-null  uint8   \n",
      " 50  urg_flag_cnt                              16232943 non-null  uint8   \n",
      " 51  cwe_flag_count                            16232943 non-null  uint8   \n",
      " 52  ece_flag_cnt                              16232943 non-null  uint8   \n",
      " 53  down_up_ratio                             16232943 non-null  uint16  \n",
      " 54  pkt_size_avg                              16232943 non-null  float32 \n",
      " 55  fwd_seg_size_avg                          16232943 non-null  float32 \n",
      " 56  bwd_seg_size_avg                          16232943 non-null  float32 \n",
      " 57  fwd_byts_b_avg                            16232943 non-null  uint8   \n",
      " 58  fwd_pkts_b_avg                            16232943 non-null  uint8   \n",
      " 59  fwd_blk_rate_avg                          16232943 non-null  uint8   \n",
      " 60  bwd_byts_b_avg                            16232943 non-null  uint8   \n",
      " 61  bwd_pkts_b_avg                            16232943 non-null  uint8   \n",
      " 62  bwd_blk_rate_avg                          16232943 non-null  uint8   \n",
      " 63  subflow_fwd_pkts                          16232943 non-null  uint32  \n",
      " 64  subflow_fwd_byts                          16232943 non-null  uint32  \n",
      " 65  subflow_bwd_pkts                          16232943 non-null  uint32  \n",
      " 66  subflow_bwd_byts                          16232943 non-null  uint32  \n",
      " 67  init_fwd_win_byts                         16232943 non-null  int32   \n",
      " 68  init_bwd_win_byts                         16232943 non-null  int32   \n",
      " 69  fwd_act_data_pkts                         16232943 non-null  uint32  \n",
      " 70  fwd_seg_size_min                          16232943 non-null  uint8   \n",
      " 71  active_mean                               16232943 non-null  float32 \n",
      " 72  active_std                                16232943 non-null  float32 \n",
      " 73  active_max                                16232943 non-null  uint32  \n",
      " 74  active_min                                16232943 non-null  uint32  \n",
      " 75  idle_mean                                 16232943 non-null  float32 \n",
      " 76  idle_std                                  16232943 non-null  float32 \n",
      " 77  idle_max                                  16232943 non-null  uint64  \n",
      " 78  idle_min                                  16232943 non-null  uint64  \n",
      " 79  label                                     16232943 non-null  category\n",
      " 80  label_code                                16232943 non-null  int8    \n",
      " 81  label_is_attack                           16232943 non-null  int64   \n",
      " 82  label_is_attack_ddos_attack_hoic          16232943 non-null  int64   \n",
      " 83  label_is_attack_ddos_attacks_loic_http    16232943 non-null  int64   \n",
      " 84  label_is_attack_dos_attacks_hulk          16232943 non-null  int64   \n",
      " 85  label_is_attack_bot                       16232943 non-null  int64   \n",
      " 86  label_is_attack_ftp_bruteforce            16232943 non-null  int64   \n",
      " 87  label_is_attack_ssh_bruteforce            16232943 non-null  int64   \n",
      " 88  label_is_attack_infilteration             16232943 non-null  int64   \n",
      " 89  label_is_attack_dos_attacks_slowhttptest  16232943 non-null  int64   \n",
      " 90  label_is_attack_dos_attacks_goldeneye     16232943 non-null  int64   \n",
      " 91  label_is_attack_dos_attacks_slowloris     16232943 non-null  int64   \n",
      " 92  label_is_attack_ddos_attack_loic_udp      16232943 non-null  int64   \n",
      " 93  label_is_attack_brute_force__web          16232943 non-null  int64   \n",
      " 94  label_is_attack_brute_force__xss          16232943 non-null  int64   \n",
      " 95  label_is_attack_sql_injection             16232943 non-null  int64   \n",
      "dtypes: category(1), float32(22), float64(2), int32(2), int64(21), int8(1), object(1), uint16(7), uint32(17), uint64(2), uint8(20)\n",
      "memory usage: 6.3+ GB\n"
     ]
    }
   ],
   "source": [
    "df.info(verbose=True, null_counts=True)"
   ]
  },
  {
   "cell_type": "markdown",
   "metadata": {},
   "source": [
    "## 1. Number of benign network flows in relation to malicious flows"
   ]
  },
  {
   "cell_type": "code",
   "execution_count": 10,
   "metadata": {},
   "outputs": [
    {
     "data": {
      "text/plain": [
       "<matplotlib.axes._subplots.AxesSubplot at 0x15238316d0>"
      ]
     },
     "execution_count": 10,
     "metadata": {},
     "output_type": "execute_result"
    },
    {
     "data": {
      "image/png": "[encoded data removed]",
      "text/plain": [
       "<Figure size 504x360 with 1 Axes>"
      ]
     },
     "metadata": {
      "needs_background": "light"
     },
     "output_type": "display_data"
    }
   ],
   "source": [
    "f, ax = plt.subplots(figsize=(7, 5))\n",
    "sns.countplot(x='label_is_attack', data=df, order = df['label_is_attack'].value_counts().index, ax=ax)"
   ]
  },
  {
   "cell_type": "code",
   "execution_count": 11,
   "metadata": {},
   "outputs": [
    {
     "data": {
      "text/html": [
       "<div>\n",
       "<style scoped>\n",
       "    .dataframe tbody tr th:only-of-type {\n",
       "        vertical-align: middle;\n",
       "    }\n",
       "\n",
       "    .dataframe tbody tr th {\n",
       "        vertical-align: top;\n",
       "    }\n",
       "\n",
       "    .dataframe thead th {\n",
       "        text-align: right;\n",
       "    }\n",
       "</style>\n",
       "<table border=\"1\" class=\"dataframe\">\n",
       "  <thead>\n",
       "    <tr style=\"text-align: right;\">\n",
       "      <th></th>\n",
       "      <th>label_is_attack</th>\n",
       "      <th>percentage</th>\n",
       "    </tr>\n",
       "  </thead>\n",
       "  <tbody>\n",
       "    <tr>\n",
       "      <th>0</th>\n",
       "      <td>13484708</td>\n",
       "      <td>0.8307</td>\n",
       "    </tr>\n",
       "    <tr>\n",
       "      <th>1</th>\n",
       "      <td>2748235</td>\n",
       "      <td>0.1693</td>\n",
       "    </tr>\n",
       "  </tbody>\n",
       "</table>\n",
       "</div>"
      ],
      "text/plain": [
       "   label_is_attack  percentage\n",
       "0         13484708      0.8307\n",
       "1          2748235      0.1693"
      ]
     },
     "execution_count": 11,
     "metadata": {},
     "output_type": "execute_result"
    }
   ],
   "source": [
    "df_is_attack = df.groupby('label_is_attack').agg({'label_is_attack':'first', 'label_is_attack':'count'}).rename_axis(None).sort_values('label_is_attack', ascending=False)\n",
    "df_is_attack['percentage'] = df_is_attack / df_is_attack.loc[:'label_is_attack'].sum()\n",
    "df_is_attack"
   ]
  },
  {
   "cell_type": "markdown",
   "metadata": {},
   "source": [
    "## 2. Number of flows per attack type"
   ]
  },
  {
   "cell_type": "code",
   "execution_count": 12,
   "metadata": {},
   "outputs": [
    {
     "data": {
      "text/plain": [
       "<matplotlib.axes._subplots.AxesSubplot at 0x1a4181fd10>"
      ]
     },
     "execution_count": 12,
     "metadata": {},
     "output_type": "execute_result"
    },
    {
     "data": {
      "image/png": "[encoded data removed]",
      "text/plain": [
       "<Figure size 1440x504 with 1 Axes>"
      ]
     },
     "metadata": {
      "needs_background": "light"
     },
     "output_type": "display_data"
    }
   ],
   "source": [
    "f, ax = plt.subplots(figsize=(20, 7))\n",
    "ax.set(xscale='log')\n",
    "sns.countplot(y='label', data=df, order = df['label'].value_counts().index, ax=ax)"
   ]
  },
  {
   "cell_type": "code",
   "execution_count": 13,
   "metadata": {},
   "outputs": [
    {
     "data": {
      "text/html": [
       "<div>\n",
       "<style scoped>\n",
       "    .dataframe tbody tr th:only-of-type {\n",
       "        vertical-align: middle;\n",
       "    }\n",
       "\n",
       "    .dataframe tbody tr th {\n",
       "        vertical-align: top;\n",
       "    }\n",
       "\n",
       "    .dataframe thead th {\n",
       "        text-align: right;\n",
       "    }\n",
       "</style>\n",
       "<table border=\"1\" class=\"dataframe\">\n",
       "  <thead>\n",
       "    <tr style=\"text-align: right;\">\n",
       "      <th></th>\n",
       "      <th>label</th>\n",
       "    </tr>\n",
       "  </thead>\n",
       "  <tbody>\n",
       "    <tr>\n",
       "      <th>Benign</th>\n",
       "      <td>13484708</td>\n",
       "    </tr>\n",
       "    <tr>\n",
       "      <th>DDOS attack-HOIC</th>\n",
       "      <td>686012</td>\n",
       "    </tr>\n",
       "    <tr>\n",
       "      <th>DDoS attacks-LOIC-HTTP</th>\n",
       "      <td>576191</td>\n",
       "    </tr>\n",
       "    <tr>\n",
       "      <th>DoS attacks-Hulk</th>\n",
       "      <td>461912</td>\n",
       "    </tr>\n",
       "    <tr>\n",
       "      <th>Bot</th>\n",
       "      <td>286191</td>\n",
       "    </tr>\n",
       "    <tr>\n",
       "      <th>FTP-BruteForce</th>\n",
       "      <td>193360</td>\n",
       "    </tr>\n",
       "    <tr>\n",
       "      <th>SSH-Bruteforce</th>\n",
       "      <td>187589</td>\n",
       "    </tr>\n",
       "    <tr>\n",
       "      <th>Infilteration</th>\n",
       "      <td>161934</td>\n",
       "    </tr>\n",
       "    <tr>\n",
       "      <th>DoS attacks-SlowHTTPTest</th>\n",
       "      <td>139890</td>\n",
       "    </tr>\n",
       "    <tr>\n",
       "      <th>DoS attacks-GoldenEye</th>\n",
       "      <td>41508</td>\n",
       "    </tr>\n",
       "    <tr>\n",
       "      <th>DoS attacks-Slowloris</th>\n",
       "      <td>10990</td>\n",
       "    </tr>\n",
       "    <tr>\n",
       "      <th>DDOS attack-LOIC-UDP</th>\n",
       "      <td>1730</td>\n",
       "    </tr>\n",
       "    <tr>\n",
       "      <th>Brute Force -Web</th>\n",
       "      <td>611</td>\n",
       "    </tr>\n",
       "    <tr>\n",
       "      <th>Brute Force -XSS</th>\n",
       "      <td>230</td>\n",
       "    </tr>\n",
       "    <tr>\n",
       "      <th>SQL Injection</th>\n",
       "      <td>87</td>\n",
       "    </tr>\n",
       "  </tbody>\n",
       "</table>\n",
       "</div>"
      ],
      "text/plain": [
       "                             label\n",
       "Benign                    13484708\n",
       "DDOS attack-HOIC            686012\n",
       "DDoS attacks-LOIC-HTTP      576191\n",
       "DoS attacks-Hulk            461912\n",
       "Bot                         286191\n",
       "FTP-BruteForce              193360\n",
       "SSH-Bruteforce              187589\n",
       "Infilteration               161934\n",
       "DoS attacks-SlowHTTPTest    139890\n",
       "DoS attacks-GoldenEye        41508\n",
       "DoS attacks-Slowloris        10990\n",
       "DDOS attack-LOIC-UDP          1730\n",
       "Brute Force -Web               611\n",
       "Brute Force -XSS               230\n",
       "SQL Injection                   87"
      ]
     },
     "execution_count": 13,
     "metadata": {},
     "output_type": "execute_result"
    }
   ],
   "source": [
    "df.groupby('label').agg({'label':'first', 'label':'count'}).rename_axis(None).sort_values('label', ascending=False)"
   ]
  },
  {
   "cell_type": "markdown",
   "metadata": {},
   "source": [
    "## 3. Feature correlations"
   ]
  },
  {
   "cell_type": "code",
   "execution_count": null,
   "metadata": {},
   "outputs": [],
   "source": []
  }
 ],
 "metadata": {
  "kernelspec": {
   "display_name": "Python 3",
   "language": "python",
   "name": "python3"
  },
  "language_info": {
   "codemirror_mode": {
    "name": "ipython",
    "version": 3
   },
   "file_extension": ".py",
   "mimetype": "text/x-python",
   "name": "python",
   "nbconvert_exporter": "python",
   "pygments_lexer": "ipython3",
   "version": "3.7.6"
  }
 },
 "nbformat": 4,
 "nbformat_minor": 4
}
